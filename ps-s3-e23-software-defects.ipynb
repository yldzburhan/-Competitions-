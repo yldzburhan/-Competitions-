{
 "cells": [
  {
   "cell_type": "markdown",
   "id": "335cade3",
   "metadata": {
    "papermill": {
     "duration": 0.016795,
     "end_time": "2023-11-13T14:45:07.609830",
     "exception": false,
     "start_time": "2023-11-13T14:45:07.593035",
     "status": "completed"
    },
    "tags": []
   },
   "source": [
    "<div style=\"border-radius: 10px; border: #6B8E23 solid; padding: 15px; background-color: #F5F5DC; font-size: 100%; text-align: left\">\n",
    "\n",
    "<h3 align=\"left\"><font color='#556B2F'>📜 Introduction : </font></h3>\n",
    "\n",
    "**Binary Classification** is a term commonly used in computer science and machine learning. It refers to a type of classification that aims to categorize a data sample into two different classes or categories. The two classes are typically represented as \"0\" and \"1,\" \"negative\" and \"positive,\" \"spam\" and \"not spam,\" or similar binary opposites. \n",
    "\n",
    "* Features of binary classification:\n",
    "\n",
    "    1. **Two Classes**: Binary classification is used to separate two distinct classes in classification problems. For example, determining whether an email is spam or not.\n",
    "\n",
    "    2. **Classification Decision**: Data samples are usually assigned to a class using a decision boundary or a threshold value. This threshold value is used to determine which class an example belongs to.\n",
    "\n",
    "    3. **Applications**: Binary classification covers a wide range of applications, including email spam filtering, medical diagnosis (e.g., disease diagnosis), customer churn prediction (estimating the likelihood of customers leaving a business), and many others.\n",
    "\n",
    "    4. **Metrics**: Various metrics are used to evaluate the results of binary classification. These metrics include accuracy, precision, recall, F1 score, and the Receiver Operating Characteristic (ROC) curve.\n",
    "\n",
    "    5. **Algorithms**: Several machine learning algorithms can be used to solve binary classification problems. These include logistic regression, support vector machines (SVM), decision trees, random forests, and deep learning algorithms (e.g., neural networks).\n",
    "\n",
    "Binary classification represents a fundamental classification problem and is widely used in many real-world applications. In such problems, correctly categorizing data points into two classes and making accurate predictions are essential, as these predictions can be used in decision-making and strategy development."
   ]
  },
  {
   "cell_type": "markdown",
   "id": "32b36764",
   "metadata": {
    "papermill": {
     "duration": 0.01579,
     "end_time": "2023-11-13T14:45:07.642348",
     "exception": false,
     "start_time": "2023-11-13T14:45:07.626558",
     "status": "completed"
    },
    "tags": []
   },
   "source": [
    "# Content\n",
    "\n",
    "1. [About Data](#1)\n",
    "     * [McCabe](#2)\n",
    "     * [Halstead](#3)\n",
    "1. [Loading Libraries & Data](#4)\n",
    "1. [Looking Features of Data](#5)\n",
    "1. [Exploratory Data Analysis (EDA)](#6)\n",
    "1. [Feature Engineering](#7)\n",
    "1. [Modelling](#8)"
   ]
  },
  {
   "cell_type": "markdown",
   "id": "bd6800b3",
   "metadata": {
    "papermill": {
     "duration": 0.015596,
     "end_time": "2023-11-13T14:45:07.673545",
     "exception": false,
     "start_time": "2023-11-13T14:45:07.657949",
     "status": "completed"
    },
    "tags": []
   },
   "source": [
    "<a id=\"1\"></a>\n",
    "<h1 style=\"border-radius: 10px; border: 2px solid #6B8E23; background-color: #F5F5DC; font-family: 'Pacifico', cursive; font-size: 200%; text-align: center; border-radius: 15px 50px; padding: 15px; box-shadow: 5px 5px 5px #556B2F; color: #556B2F;\">🐼 About Data 🐼</h1>\n",
    "\n",
    "This is a PROMISE data set made publicly available in order to encourage repeatable, verifiable, refutable, and/or improvable predictive models of software engineering.\n",
    "\n",
    "If you publish material based on PROMISE data sets then, please follow the acknowledgment guidelines posted on the PROMISE repository web page http://promise.site.uottawa.ca/SERepository .\n",
    "\n",
    "**Title/Topic: JM1/software defect prediction**\n",
    " \n",
    "1. Sources:\n",
    "\n",
    "    * Creators:  NASA, then the NASA Metrics Data Program, http://mdp.ivv.nasa.gov. Contacts: Mike Chapman, Galaxy Global Corporation (Robert.Chapman@ivv.nasa.gov) +1-304-367-8341; Pat Callis, NASA, NASA project manager for MDP (Patrick.E.Callis@ivv.nasa.gov) +1-304-367-8309 \n",
    "\n",
    "    * Donor: Tim Menzies (tim@barmag.net)\n",
    "\n",
    "    * Date:  December 2 2004\n",
    "\n",
    "2. Relevant information:\n",
    " \n",
    "    * JM1 is written in \"C\" and is a real-time predictive ground system: Uses simulations to generate predictions.\n",
    "\n",
    "    * Data comes from McCabe and Halstead features extractors of source code.  These features were defined in the 70s in an attempt to objectively characterize code features that are associated with software quality.  The nature of association is under dispute.\n",
    "   \n",
    "    * The McCabe and Halstead measures are \"module\"-based where a \"module\" is the smallest unit of functionality.\n",
    "\n",
    "3. About the data of the competition:\n",
    "\n",
    "    * The dataset for this competition (both train and test) was generated from a deep learning model trained on the Software Defect Dataset. Feature distributions are close to, but not exactly the same, as the original."
   ]
  },
  {
   "cell_type": "markdown",
   "id": "f6ace12c",
   "metadata": {
    "papermill": {
     "duration": 0.016424,
     "end_time": "2023-11-13T14:45:07.705815",
     "exception": false,
     "start_time": "2023-11-13T14:45:07.689391",
     "status": "completed"
    },
    "tags": []
   },
   "source": [
    "<a id = \"2\"></a><br>\n",
    "<p style=\"font-family: 'Pacifico', cursive; font-weight: bold; letter-spacing: 2px; color: #556B2F; font-size: 160%; text-align: left; padding: 0px; border-bottom: 3px solid\">✨McCabe✨</p>\n",
    "\n",
    "**McCabe** is a term in software engineering, referring to a set of metrics developed by Thomas J. McCabe for measuring software complexity. These metrics are used to analyze and understand the complexity of a program. The purpose of these metrics is to provide information about factors such as the maintainability, testability, and comprehensibility of the software.\n",
    "\n",
    "Some of the most commonly used metrics developed by McCabe include:\n",
    "\n",
    "1. **Cyclomatic Complexity**:\n",
    "   Cyclomatic complexity is a numerical value that takes into account structures such as loops, decision structures, and control flow within a program. It measures the complexity of the program. Cyclomatic complexity (V(G)) is calculated using the following formula:\n",
    "\n",
    "   ```\n",
    "   V(G) = E - N + 2P\n",
    "   ```\n",
    "\n",
    "   Where:\n",
    "   - `E` represents the number of edges (i.e., connections) in the program.\n",
    "   - `N` represents the number of nodes in the program.\n",
    "   - `P` represents the number of independent paths in the program, which corresponds to the number of loops and decision structures.\n",
    "\n",
    "2. **McCabe's Cyclomatic Number**:\n",
    "   This metric measures the complexity of a program's control structure, including loops and conditional expressions. The Cyclomatic number (CN) is calculated using the following formula:\n",
    "\n",
    "   ```\n",
    "   CN = E - N + 2\n",
    "   ```\n",
    "\n",
    "   Here, `E` represents the number of edges, and `N` represents the number of nodes.\n",
    "\n",
    "3. **McCabe's Pathological Complexity**:\n",
    "   Pathological complexity represents the worst-case scenario of a program. It represents the most complex control flow in the program.\n",
    "\n",
    "McCabe metrics can help improve the understandability and maintainability of software. Lower complexity generally indicates better code quality, as it tends to be more understandable and easier to debug. These metrics can also be used to monitor software development processes and control the complexity of code. However, a program with high complexity may require more testing and maintenance. Therefore, these metrics can be important tools for assessing software quality and maintenance costs."
   ]
  },
  {
   "cell_type": "markdown",
   "id": "14246ee9",
   "metadata": {
    "papermill": {
     "duration": 0.016277,
     "end_time": "2023-11-13T14:45:07.738284",
     "exception": false,
     "start_time": "2023-11-13T14:45:07.722007",
     "status": "completed"
    },
    "tags": []
   },
   "source": [
    "<a id = \"3\"></a><br>\n",
    "<p style=\"font-family: 'Pacifico', cursive; font-weight: bold; letter-spacing: 2px; color: #556B2F; font-size: 160%; text-align: left; padding: 0px; border-bottom: 3px solid\">✨Halstead✨</p>\n",
    "\n",
    "**Halstead Metrics** are a set of software metrics developed by Maurice H. Halstead to measure the complexity and size of software. These metrics provide insights into the understandability, quality, and maintainability of code during software development and maintenance. Halstead metrics help assess the size, complexity, and potential error-proneness of a software program. Here are the fundamental components and features of Halstead metrics:\n",
    "\n",
    "1. **Program Size Metrics**:\n",
    "\n",
    "   a. **Number of Operators (n1)**: Represents the total count of different operators (mathematical operators, assignment operators, logical operators, etc.) in a program.\n",
    "\n",
    "   b. **Number of Operands (n2)**: Represents the total count of different operands (variables, constants, etc.) in a program.\n",
    "\n",
    "   c. **Total Number of Operators (N1)**: Represents the total count of all operators in a program and can be the same as or different from n1 (if the same operator is used multiple times).\n",
    "\n",
    "   d. **Total Number of Operands (N2)**: Represents the total count of all operands in a program and can be the same as or different from n2 (if the same operand is used multiple times).\n",
    "\n",
    "2. **Program Complexity Metrics**:\n",
    "\n",
    "   a. **Calculated Program Size (N)**: Calculated using Halstead's basic formula: N = N1 + N2\n",
    "\n",
    "   b. **Expected Program Size (N'')**: Represents the size of an ideal program, the smallest possible program that accomplishes the same task, when using the same operators and operands: N'' = n1 * log2(n1) + n2 * log2(n2)\n",
    "\n",
    "   c. **Program's Expanded Size (V)**: V = N * log2(n)\n",
    "\n",
    "   d. **Program's Difficulty (D)**: D = (n1 / 2) * (N2 / n2)\n",
    "\n",
    "   e. **Volume (V)**: V = N * log2(n)\n",
    "\n",
    "   f. **Effort (E)**: E = V * D\n",
    "\n",
    "   g. **Time (T)**: T = E / 18 seconds (default value)\n",
    "\n",
    "   h. **Bugs (B)**: B = V / 3000 (default value)\n",
    "\n",
    "Halstead metrics assist in estimating software complexity and potential errors while aiding in making important decisions during software development and maintenance phases. A higher Halstead difficulty or volume indicates greater code complexity and potentially more challenging maintenance. These metrics can help software engineers better understand and manage software projects. However, when used alone, they may provide an incomplete picture and should be combined with other metrics and analyses."
   ]
  },
  {
   "cell_type": "markdown",
   "id": "eb1198d6",
   "metadata": {
    "papermill": {
     "duration": 0.015334,
     "end_time": "2023-11-13T14:45:07.769751",
     "exception": false,
     "start_time": "2023-11-13T14:45:07.754417",
     "status": "completed"
    },
    "tags": []
   },
   "source": [
    "<a id=\"4\"></a>\n",
    "<h1 style=\"border-radius: 10px; border: 2px solid #6B8E23; background-color: #F5F5DC; font-family: 'Pacifico', cursive; font-size: 200%; text-align: center; border-radius: 15px 50px; padding: 15px; box-shadow: 5px 5px 5px #556B2F; color: #556B2F;\">🐼 Loading Libraries & Data  🐼</h1>"
   ]
  },
  {
   "cell_type": "code",
   "execution_count": 1,
   "id": "44bbdf80",
   "metadata": {
    "_cell_guid": "b1076dfc-b9ad-4769-8c92-a6c4dae69d19",
    "_uuid": "8f2839f25d086af736a60e9eeb907d3b93b6e0e5",
    "execution": {
     "iopub.execute_input": "2023-11-13T14:45:07.803416Z",
     "iopub.status.busy": "2023-11-13T14:45:07.802606Z",
     "iopub.status.idle": "2023-11-13T14:45:10.709465Z",
     "shell.execute_reply": "2023-11-13T14:45:10.708720Z"
    },
    "papermill": {
     "duration": 2.926389,
     "end_time": "2023-11-13T14:45:10.711893",
     "exception": false,
     "start_time": "2023-11-13T14:45:07.785504",
     "status": "completed"
    },
    "tags": []
   },
   "outputs": [
    {
     "name": "stderr",
     "output_type": "stream",
     "text": [
      "/opt/conda/lib/python3.10/site-packages/scipy/__init__.py:146: UserWarning: A NumPy version >=1.16.5 and <1.23.0 is required for this version of SciPy (detected version 1.23.5\n",
      "  warnings.warn(f\"A NumPy version >={np_minversion} and <{np_maxversion}\"\n"
     ]
    }
   ],
   "source": [
    "import numpy as np\n",
    "import pandas as pd\n",
    "import matplotlib.pyplot as plt\n",
    "import seaborn as sns\n",
    "\n",
    "import warnings\n",
    "warnings.filterwarnings(\"ignore\")"
   ]
  },
  {
   "cell_type": "code",
   "execution_count": 2,
   "id": "c8a6a49d",
   "metadata": {
    "execution": {
     "iopub.execute_input": "2023-11-13T14:45:10.745182Z",
     "iopub.status.busy": "2023-11-13T14:45:10.744771Z",
     "iopub.status.idle": "2023-11-13T14:45:11.480091Z",
     "shell.execute_reply": "2023-11-13T14:45:11.479256Z"
    },
    "papermill": {
     "duration": 0.754519,
     "end_time": "2023-11-13T14:45:11.482531",
     "exception": false,
     "start_time": "2023-11-13T14:45:10.728012",
     "status": "completed"
    },
    "tags": []
   },
   "outputs": [],
   "source": [
    "path = \"/kaggle/input/playground-series-s3e23/\"\n",
    "train = pd.read_csv(path+\"train.csv\")\n",
    "test = pd.read_csv(path+\"test.csv\")\n",
    "sub = pd.read_csv(path+\"sample_submission.csv\")\n",
    "original = pd.read_csv(\"/kaggle/input/software-defect-prediction/jm1.csv\")\n",
    "org = original.copy()"
   ]
  },
  {
   "cell_type": "markdown",
   "id": "5ea999e0",
   "metadata": {
    "papermill": {
     "duration": 0.015749,
     "end_time": "2023-11-13T14:45:11.515416",
     "exception": false,
     "start_time": "2023-11-13T14:45:11.499667",
     "status": "completed"
    },
    "tags": []
   },
   "source": [
    "<a id=\"5\"></a>\n",
    "<h1 style=\"border-radius: 10px; border: 2px solid #6B8E23; background-color: #F5F5DC; font-family: 'Pacifico', cursive; font-size: 200%; text-align: center; border-radius: 15px 50px; padding: 15px; box-shadow: 5px 5px 5px #556B2F; color: #556B2F;\">🐼 Looking Features of Data 🐼</h1>"
   ]
  },
  {
   "cell_type": "markdown",
   "id": "67274cbf",
   "metadata": {
    "papermill": {
     "duration": 0.015711,
     "end_time": "2023-11-13T14:45:11.546774",
     "exception": false,
     "start_time": "2023-11-13T14:45:11.531063",
     "status": "completed"
    },
    "tags": []
   },
   "source": [
    "> **First, let's take a look train,test and the original data set;**"
   ]
  },
  {
   "cell_type": "code",
   "execution_count": 3,
   "id": "e04c85c2",
   "metadata": {
    "execution": {
     "iopub.execute_input": "2023-11-13T14:45:11.579741Z",
     "iopub.status.busy": "2023-11-13T14:45:11.579450Z",
     "iopub.status.idle": "2023-11-13T14:45:11.628781Z",
     "shell.execute_reply": "2023-11-13T14:45:11.627624Z"
    },
    "papermill": {
     "duration": 0.068356,
     "end_time": "2023-11-13T14:45:11.630986",
     "exception": false,
     "start_time": "2023-11-13T14:45:11.562630",
     "status": "completed"
    },
    "tags": []
   },
   "outputs": [
    {
     "name": "stdout",
     "output_type": "stream",
     "text": [
      "<class 'pandas.core.frame.DataFrame'>\n",
      "RangeIndex: 10885 entries, 0 to 10884\n",
      "Data columns (total 22 columns):\n",
      " #   Column             Non-Null Count  Dtype  \n",
      "---  ------             --------------  -----  \n",
      " 0   loc                10885 non-null  float64\n",
      " 1   v(g)               10885 non-null  float64\n",
      " 2   ev(g)              10885 non-null  float64\n",
      " 3   iv(g)              10885 non-null  float64\n",
      " 4   n                  10885 non-null  float64\n",
      " 5   v                  10885 non-null  float64\n",
      " 6   l                  10885 non-null  float64\n",
      " 7   d                  10885 non-null  float64\n",
      " 8   i                  10885 non-null  float64\n",
      " 9   e                  10885 non-null  float64\n",
      " 10  b                  10885 non-null  float64\n",
      " 11  t                  10885 non-null  float64\n",
      " 12  lOCode             10885 non-null  int64  \n",
      " 13  lOComment          10885 non-null  int64  \n",
      " 14  lOBlank            10885 non-null  int64  \n",
      " 15  locCodeAndComment  10885 non-null  int64  \n",
      " 16  uniq_Op            10885 non-null  object \n",
      " 17  uniq_Opnd          10885 non-null  object \n",
      " 18  total_Op           10885 non-null  object \n",
      " 19  total_Opnd         10885 non-null  object \n",
      " 20  branchCount        10885 non-null  object \n",
      " 21  defects            10885 non-null  bool   \n",
      "dtypes: bool(1), float64(12), int64(4), object(5)\n",
      "memory usage: 1.8+ MB\n"
     ]
    }
   ],
   "source": [
    "org.info()"
   ]
  },
  {
   "cell_type": "code",
   "execution_count": 4,
   "id": "3089d56c",
   "metadata": {
    "execution": {
     "iopub.execute_input": "2023-11-13T14:45:11.707822Z",
     "iopub.status.busy": "2023-11-13T14:45:11.707495Z",
     "iopub.status.idle": "2023-11-13T14:45:11.721435Z",
     "shell.execute_reply": "2023-11-13T14:45:11.720295Z"
    },
    "papermill": {
     "duration": 0.033675,
     "end_time": "2023-11-13T14:45:11.723428",
     "exception": false,
     "start_time": "2023-11-13T14:45:11.689753",
     "status": "completed"
    },
    "tags": []
   },
   "outputs": [
    {
     "name": "stdout",
     "output_type": "stream",
     "text": [
      "<class 'pandas.core.frame.DataFrame'>\n",
      "RangeIndex: 101763 entries, 0 to 101762\n",
      "Data columns (total 23 columns):\n",
      " #   Column             Non-Null Count   Dtype  \n",
      "---  ------             --------------   -----  \n",
      " 0   id                 101763 non-null  int64  \n",
      " 1   loc                101763 non-null  float64\n",
      " 2   v(g)               101763 non-null  float64\n",
      " 3   ev(g)              101763 non-null  float64\n",
      " 4   iv(g)              101763 non-null  float64\n",
      " 5   n                  101763 non-null  float64\n",
      " 6   v                  101763 non-null  float64\n",
      " 7   l                  101763 non-null  float64\n",
      " 8   d                  101763 non-null  float64\n",
      " 9   i                  101763 non-null  float64\n",
      " 10  e                  101763 non-null  float64\n",
      " 11  b                  101763 non-null  float64\n",
      " 12  t                  101763 non-null  float64\n",
      " 13  lOCode             101763 non-null  int64  \n",
      " 14  lOComment          101763 non-null  int64  \n",
      " 15  lOBlank            101763 non-null  int64  \n",
      " 16  locCodeAndComment  101763 non-null  int64  \n",
      " 17  uniq_Op            101763 non-null  float64\n",
      " 18  uniq_Opnd          101763 non-null  float64\n",
      " 19  total_Op           101763 non-null  float64\n",
      " 20  total_Opnd         101763 non-null  float64\n",
      " 21  branchCount        101763 non-null  float64\n",
      " 22  defects            101763 non-null  bool   \n",
      "dtypes: bool(1), float64(17), int64(5)\n",
      "memory usage: 17.2 MB\n"
     ]
    }
   ],
   "source": [
    "train.info()"
   ]
  },
  {
   "cell_type": "code",
   "execution_count": 5,
   "id": "4c1eba2a",
   "metadata": {
    "execution": {
     "iopub.execute_input": "2023-11-13T14:45:11.758466Z",
     "iopub.status.busy": "2023-11-13T14:45:11.757781Z",
     "iopub.status.idle": "2023-11-13T14:45:11.824531Z",
     "shell.execute_reply": "2023-11-13T14:45:11.823679Z"
    },
    "papermill": {
     "duration": 0.086937,
     "end_time": "2023-11-13T14:45:11.826762",
     "exception": false,
     "start_time": "2023-11-13T14:45:11.739825",
     "status": "completed"
    },
    "tags": []
   },
   "outputs": [
    {
     "name": "stdout",
     "output_type": "stream",
     "text": [
      "<class 'pandas.core.frame.DataFrame'>\n",
      "RangeIndex: 67842 entries, 0 to 67841\n",
      "Data columns (total 22 columns):\n",
      " #   Column             Non-Null Count  Dtype  \n",
      "---  ------             --------------  -----  \n",
      " 0   id                 67842 non-null  int64  \n",
      " 1   loc                67842 non-null  float64\n",
      " 2   v(g)               67842 non-null  float64\n",
      " 3   ev(g)              67842 non-null  float64\n",
      " 4   iv(g)              67842 non-null  float64\n",
      " 5   n                  67842 non-null  float64\n",
      " 6   v                  67842 non-null  float64\n",
      " 7   l                  67842 non-null  float64\n",
      " 8   d                  67842 non-null  float64\n",
      " 9   i                  67842 non-null  float64\n",
      " 10  e                  67842 non-null  float64\n",
      " 11  b                  67842 non-null  float64\n",
      " 12  t                  67842 non-null  float64\n",
      " 13  lOCode             67842 non-null  int64  \n",
      " 14  lOComment          67842 non-null  int64  \n",
      " 15  lOBlank            67842 non-null  int64  \n",
      " 16  locCodeAndComment  67842 non-null  int64  \n",
      " 17  uniq_Op            67842 non-null  float64\n",
      " 18  uniq_Opnd          67842 non-null  float64\n",
      " 19  total_Op           67842 non-null  float64\n",
      " 20  total_Opnd         67842 non-null  float64\n",
      " 21  branchCount        67842 non-null  float64\n",
      "dtypes: float64(17), int64(5)\n",
      "memory usage: 11.4 MB\n"
     ]
    }
   ],
   "source": [
    "test.info()"
   ]
  },
  {
   "cell_type": "markdown",
   "id": "641a89b0",
   "metadata": {
    "papermill": {
     "duration": 0.016581,
     "end_time": "2023-11-13T14:45:11.860109",
     "exception": false,
     "start_time": "2023-11-13T14:45:11.843528",
     "status": "completed"
    },
    "tags": []
   },
   "source": [
    "* Now let's examine the features of data;"
   ]
  },
  {
   "cell_type": "markdown",
   "id": "2bd8350c",
   "metadata": {
    "papermill": {
     "duration": 0.015831,
     "end_time": "2023-11-13T14:45:11.892047",
     "exception": false,
     "start_time": "2023-11-13T14:45:11.876216",
     "status": "completed"
    },
    "tags": []
   },
   "source": [
    "<div style=\"border-radius: 10px; border: #6B8E23 solid; padding: 15px; background-color: #F5F5DC; font-size: 100%; text-align: left\">\n",
    "\n",
    "<h3 align=\"left\"><font color='#556B2F'>👀 Features : </font></h3>\n",
    "\n",
    "1. **loc (Lines of Code):** A numerical feature representing McCabe's line count of code, measuring the total number of lines in a module's code.\n",
    "1. **v(g) (Cyclomatic Complexity):** A numerical feature representing McCabe's \"cyclomatic complexity,\" measuring the number of linearly independent paths in a program's control flow. Higher values may indicate more complex code.\n",
    "1. **ev(g) (Essential Complexity):** A numerical feature representing McCabe's \"essential complexity,\" measuring a program's fundamental complexity.\n",
    "1. **iv(g) (Design Complexity):** A numerical feature representing McCabe's \"design complexity,\" measuring the design complexity of a module.\n",
    "1. **n (Halstead Total Operators + Operands):** A numerical feature representing the total number of operators and operands in Halstead's metrics.\n",
    "1. **v (Halstead Volume):** A numerical feature representing Halstead's \"volume,\" measuring the number of mental comparisons needed to write a program of a certain length.\n",
    "1. **l (Halstead Program Length):** A numerical feature representing Halstead's \"program length,\" measuring the length of the program.\n",
    "1. **d (Halstead Difficulty):** A numerical feature representing Halstead's \"difficulty,\" measuring the complexity of the program.\n",
    "1. **i (Halstead Intelligence):** A numerical feature representing Halstead's \"intelligence,\" measuring the intelligence of the program.\n",
    "1. **e (Halstead Effort):** A numerical feature representing Halstead's \"effort,\" measuring the effort required to write the program.\n",
    "1. **b (Halstead):** A numerical feature, but the specific Halstead metric it represents is not specified. It likely represents another Halstead measure related to a specific feature.\n",
    "1. **t (Halstead's Time Estimator):** A numerical feature representing Halstead's \"time estimator,\" estimating the time required to write the program.\n",
    "1. **lOCode (Halstead's Line Count):** A numerical feature representing Halstead's line count of code.\n",
    "1. **lOComment (Halstead's Count of Lines of Comments):** A numerical feature representing Halstead's count of lines of comments.\n",
    "1. **lOBlank (Halstead's Count of Blank Lines):** A numerical feature representing Halstead's count of blank lines.\n",
    "1. **lOCodeAndComment:** A numerical feature, but the specific features it represents under this name are not specified.\n",
    "1. **uniq_Op (Unique Operators):** A numerical feature measuring the number of unique operators in a module.\n",
    "1. **uniq_Opnd (Unique Operands):** A numerical feature measuring the number of unique operands in a module.\n",
    "1. **total_Op (Total Operators):** A numerical feature measuring the total number of operators in a module.\n",
    "1. **total_Opnd (Total Operands):** A numerical feature measuring the total number of operands in a module.\n",
    "1. **branchCount:** A numerical feature measuring the number of branches in the flow graph.\n",
    "1. **defects (Defects):** A binary target variable indicating whether there are one or more reported defects in the module. \"False\" means no defects, and \"true\" means one or more defects."
   ]
  },
  {
   "cell_type": "markdown",
   "id": "d96ae790",
   "metadata": {
    "papermill": {
     "duration": 0.016417,
     "end_time": "2023-11-13T14:45:11.924784",
     "exception": false,
     "start_time": "2023-11-13T14:45:11.908367",
     "status": "completed"
    },
    "tags": []
   },
   "source": [
    "<a id=\"6\"></a>\n",
    "<h1 style=\"border-radius: 10px; border: 2px solid #6B8E23; background-color: #F5F5DC; font-family: 'Pacifico', cursive; font-size: 200%; text-align: center; border-radius: 15px 50px; padding: 15px; box-shadow: 5px 5px 5px #556B2F; color: #556B2F;\">🐼 Exploratory Data Analysis (EDA) 🐼</h1>"
   ]
  },
  {
   "cell_type": "markdown",
   "id": "9eef4222",
   "metadata": {
    "papermill": {
     "duration": 0.017086,
     "end_time": "2023-11-13T14:45:11.958099",
     "exception": false,
     "start_time": "2023-11-13T14:45:11.941013",
     "status": "completed"
    },
    "tags": []
   },
   "source": [
    "<div style=\"border-radius:10px; border:#65647C solid; padding: 15px; background-color: #F8EDE3; font-size:100%; text-align:left\">\n",
    "\n",
    "<h3 align=\"left\"><font color='#7D6E83'><b>🗨️ Comment: </b></font></h3>\n",
    "\n",
    "* Since we are asked to work with a larger data set for this competition, we need to combine the two data;"
   ]
  },
  {
   "cell_type": "code",
   "execution_count": 6,
   "id": "d7cd7229",
   "metadata": {
    "execution": {
     "iopub.execute_input": "2023-11-13T14:45:11.993075Z",
     "iopub.status.busy": "2023-11-13T14:45:11.992713Z",
     "iopub.status.idle": "2023-11-13T14:45:12.036449Z",
     "shell.execute_reply": "2023-11-13T14:45:12.035616Z"
    },
    "papermill": {
     "duration": 0.064331,
     "end_time": "2023-11-13T14:45:12.038671",
     "exception": false,
     "start_time": "2023-11-13T14:45:11.974340",
     "status": "completed"
    },
    "tags": []
   },
   "outputs": [],
   "source": [
    "train = pd.concat([train.drop(\"id\",axis=1), org], ignore_index=True)"
   ]
  },
  {
   "cell_type": "markdown",
   "id": "96c74ff1",
   "metadata": {
    "papermill": {
     "duration": 0.017717,
     "end_time": "2023-11-13T14:45:12.074358",
     "exception": false,
     "start_time": "2023-11-13T14:45:12.056641",
     "status": "completed"
    },
    "tags": []
   },
   "source": [
    "<div style=\"border-radius:10px; border:#65647C solid; padding: 15px; background-color: #F8EDE3; font-size:100%; text-align:left\">\n",
    "\n",
    "<h3 align=\"left\"><font color='#7D6E83'><b>🗨️ Comment: </b></font></h3>\n",
    "\n",
    "* We removed the \"id\" column as it was not present in the original data.Now let's do the same to the test data set;"
   ]
  },
  {
   "cell_type": "code",
   "execution_count": 7,
   "id": "00d5b522",
   "metadata": {
    "execution": {
     "iopub.execute_input": "2023-11-13T14:45:12.109821Z",
     "iopub.status.busy": "2023-11-13T14:45:12.109512Z",
     "iopub.status.idle": "2023-11-13T14:45:12.116670Z",
     "shell.execute_reply": "2023-11-13T14:45:12.115891Z"
    },
    "papermill": {
     "duration": 0.026298,
     "end_time": "2023-11-13T14:45:12.118486",
     "exception": false,
     "start_time": "2023-11-13T14:45:12.092188",
     "status": "completed"
    },
    "tags": []
   },
   "outputs": [],
   "source": [
    "test = test.drop(\"id\",axis=1)"
   ]
  },
  {
   "cell_type": "markdown",
   "id": "ef9aa741",
   "metadata": {
    "papermill": {
     "duration": 0.016011,
     "end_time": "2023-11-13T14:45:12.150702",
     "exception": false,
     "start_time": "2023-11-13T14:45:12.134691",
     "status": "completed"
    },
    "tags": []
   },
   "source": [
    "<div style=\"border-radius:10px; border:#65647C solid; padding: 15px; background-color: #F8EDE3; font-size:100%; text-align:left\">\n",
    "\n",
    "<h3 align=\"left\"><font color='#7D6E83'><b>🗨️ Comment: </b></font></h3>\n",
    "\n",
    "* Before applying some operations, let's see the columns that are categorical even though they are numbers;"
   ]
  },
  {
   "cell_type": "code",
   "execution_count": 8,
   "id": "4c54b5c4",
   "metadata": {
    "execution": {
     "iopub.execute_input": "2023-11-13T14:45:12.186637Z",
     "iopub.status.busy": "2023-11-13T14:45:12.186343Z",
     "iopub.status.idle": "2023-11-13T14:45:12.318093Z",
     "shell.execute_reply": "2023-11-13T14:45:12.317073Z"
    },
    "papermill": {
     "duration": 0.151162,
     "end_time": "2023-11-13T14:45:12.320287",
     "exception": false,
     "start_time": "2023-11-13T14:45:12.169125",
     "status": "completed"
    },
    "tags": []
   },
   "outputs": [
    {
     "data": {
      "text/html": [
       "<div>\n",
       "<style scoped>\n",
       "    .dataframe tbody tr th:only-of-type {\n",
       "        vertical-align: middle;\n",
       "    }\n",
       "\n",
       "    .dataframe tbody tr th {\n",
       "        vertical-align: top;\n",
       "    }\n",
       "\n",
       "    .dataframe thead th {\n",
       "        text-align: right;\n",
       "    }\n",
       "</style>\n",
       "<table border=\"1\" class=\"dataframe\">\n",
       "  <thead>\n",
       "    <tr style=\"text-align: right;\">\n",
       "      <th></th>\n",
       "      <th>count</th>\n",
       "      <th>mean</th>\n",
       "      <th>std</th>\n",
       "      <th>min</th>\n",
       "      <th>25%</th>\n",
       "      <th>50%</th>\n",
       "      <th>75%</th>\n",
       "      <th>max</th>\n",
       "    </tr>\n",
       "  </thead>\n",
       "  <tbody>\n",
       "    <tr>\n",
       "      <th>loc</th>\n",
       "      <td>112648.0</td>\n",
       "      <td>37.798320</td>\n",
       "      <td>57.112718</td>\n",
       "      <td>1.0</td>\n",
       "      <td>13.0000</td>\n",
       "      <td>22.00</td>\n",
       "      <td>42.00</td>\n",
       "      <td>3442.00</td>\n",
       "    </tr>\n",
       "    <tr>\n",
       "      <th>v(g)</th>\n",
       "      <td>112648.0</td>\n",
       "      <td>5.575389</td>\n",
       "      <td>8.534277</td>\n",
       "      <td>1.0</td>\n",
       "      <td>2.0000</td>\n",
       "      <td>3.00</td>\n",
       "      <td>6.00</td>\n",
       "      <td>470.00</td>\n",
       "    </tr>\n",
       "    <tr>\n",
       "      <th>ev(g)</th>\n",
       "      <td>112648.0</td>\n",
       "      <td>2.898750</td>\n",
       "      <td>4.881992</td>\n",
       "      <td>1.0</td>\n",
       "      <td>1.0000</td>\n",
       "      <td>1.00</td>\n",
       "      <td>3.00</td>\n",
       "      <td>165.00</td>\n",
       "    </tr>\n",
       "    <tr>\n",
       "      <th>iv(g)</th>\n",
       "      <td>112648.0</td>\n",
       "      <td>3.547408</td>\n",
       "      <td>5.976973</td>\n",
       "      <td>1.0</td>\n",
       "      <td>1.0000</td>\n",
       "      <td>2.00</td>\n",
       "      <td>4.00</td>\n",
       "      <td>402.00</td>\n",
       "    </tr>\n",
       "    <tr>\n",
       "      <th>n</th>\n",
       "      <td>112648.0</td>\n",
       "      <td>98.369579</td>\n",
       "      <td>180.286315</td>\n",
       "      <td>0.0</td>\n",
       "      <td>24.0000</td>\n",
       "      <td>51.00</td>\n",
       "      <td>111.00</td>\n",
       "      <td>8441.00</td>\n",
       "    </tr>\n",
       "    <tr>\n",
       "      <th>v</th>\n",
       "      <td>112648.0</td>\n",
       "      <td>551.371893</td>\n",
       "      <td>1350.436095</td>\n",
       "      <td>0.0</td>\n",
       "      <td>94.0100</td>\n",
       "      <td>230.75</td>\n",
       "      <td>569.20</td>\n",
       "      <td>80843.08</td>\n",
       "    </tr>\n",
       "    <tr>\n",
       "      <th>l</th>\n",
       "      <td>112648.0</td>\n",
       "      <td>0.113924</td>\n",
       "      <td>0.107658</td>\n",
       "      <td>0.0</td>\n",
       "      <td>0.0400</td>\n",
       "      <td>0.08</td>\n",
       "      <td>0.15</td>\n",
       "      <td>1.30</td>\n",
       "    </tr>\n",
       "    <tr>\n",
       "      <th>d</th>\n",
       "      <td>112648.0</td>\n",
       "      <td>13.729747</td>\n",
       "      <td>14.628284</td>\n",
       "      <td>0.0</td>\n",
       "      <td>5.3300</td>\n",
       "      <td>9.75</td>\n",
       "      <td>18.13</td>\n",
       "      <td>418.20</td>\n",
       "    </tr>\n",
       "    <tr>\n",
       "      <th>i</th>\n",
       "      <td>112648.0</td>\n",
       "      <td>27.753367</td>\n",
       "      <td>24.222122</td>\n",
       "      <td>0.0</td>\n",
       "      <td>15.3125</td>\n",
       "      <td>23.25</td>\n",
       "      <td>34.59</td>\n",
       "      <td>569.78</td>\n",
       "    </tr>\n",
       "    <tr>\n",
       "      <th>e</th>\n",
       "      <td>112648.0</td>\n",
       "      <td>22397.980464</td>\n",
       "      <td>225965.313883</td>\n",
       "      <td>0.0</td>\n",
       "      <td>536.0400</td>\n",
       "      <td>2237.79</td>\n",
       "      <td>10273.67</td>\n",
       "      <td>31079782.27</td>\n",
       "    </tr>\n",
       "    <tr>\n",
       "      <th>b</th>\n",
       "      <td>112648.0</td>\n",
       "      <td>0.183571</td>\n",
       "      <td>0.448677</td>\n",
       "      <td>0.0</td>\n",
       "      <td>0.0300</td>\n",
       "      <td>0.08</td>\n",
       "      <td>0.19</td>\n",
       "      <td>26.95</td>\n",
       "    </tr>\n",
       "    <tr>\n",
       "      <th>t</th>\n",
       "      <td>112648.0</td>\n",
       "      <td>1228.817045</td>\n",
       "      <td>12008.820209</td>\n",
       "      <td>0.0</td>\n",
       "      <td>29.8700</td>\n",
       "      <td>124.33</td>\n",
       "      <td>569.58</td>\n",
       "      <td>1726654.57</td>\n",
       "    </tr>\n",
       "    <tr>\n",
       "      <th>lOCode</th>\n",
       "      <td>112648.0</td>\n",
       "      <td>23.135804</td>\n",
       "      <td>41.064029</td>\n",
       "      <td>0.0</td>\n",
       "      <td>6.0000</td>\n",
       "      <td>14.00</td>\n",
       "      <td>26.00</td>\n",
       "      <td>2824.00</td>\n",
       "    </tr>\n",
       "    <tr>\n",
       "      <th>lOComment</th>\n",
       "      <td>112648.0</td>\n",
       "      <td>1.867055</td>\n",
       "      <td>6.276490</td>\n",
       "      <td>0.0</td>\n",
       "      <td>0.0000</td>\n",
       "      <td>0.00</td>\n",
       "      <td>1.00</td>\n",
       "      <td>344.00</td>\n",
       "    </tr>\n",
       "    <tr>\n",
       "      <th>lOBlank</th>\n",
       "      <td>112648.0</td>\n",
       "      <td>4.042256</td>\n",
       "      <td>6.814345</td>\n",
       "      <td>0.0</td>\n",
       "      <td>1.0000</td>\n",
       "      <td>2.00</td>\n",
       "      <td>5.00</td>\n",
       "      <td>447.00</td>\n",
       "    </tr>\n",
       "    <tr>\n",
       "      <th>locCodeAndComment</th>\n",
       "      <td>112648.0</td>\n",
       "      <td>0.213435</td>\n",
       "      <td>1.120614</td>\n",
       "      <td>0.0</td>\n",
       "      <td>0.0000</td>\n",
       "      <td>0.00</td>\n",
       "      <td>0.00</td>\n",
       "      <td>108.00</td>\n",
       "    </tr>\n",
       "  </tbody>\n",
       "</table>\n",
       "</div>"
      ],
      "text/plain": [
       "                      count          mean            std  min       25%  \\\n",
       "loc                112648.0     37.798320      57.112718  1.0   13.0000   \n",
       "v(g)               112648.0      5.575389       8.534277  1.0    2.0000   \n",
       "ev(g)              112648.0      2.898750       4.881992  1.0    1.0000   \n",
       "iv(g)              112648.0      3.547408       5.976973  1.0    1.0000   \n",
       "n                  112648.0     98.369579     180.286315  0.0   24.0000   \n",
       "v                  112648.0    551.371893    1350.436095  0.0   94.0100   \n",
       "l                  112648.0      0.113924       0.107658  0.0    0.0400   \n",
       "d                  112648.0     13.729747      14.628284  0.0    5.3300   \n",
       "i                  112648.0     27.753367      24.222122  0.0   15.3125   \n",
       "e                  112648.0  22397.980464  225965.313883  0.0  536.0400   \n",
       "b                  112648.0      0.183571       0.448677  0.0    0.0300   \n",
       "t                  112648.0   1228.817045   12008.820209  0.0   29.8700   \n",
       "lOCode             112648.0     23.135804      41.064029  0.0    6.0000   \n",
       "lOComment          112648.0      1.867055       6.276490  0.0    0.0000   \n",
       "lOBlank            112648.0      4.042256       6.814345  0.0    1.0000   \n",
       "locCodeAndComment  112648.0      0.213435       1.120614  0.0    0.0000   \n",
       "\n",
       "                       50%       75%          max  \n",
       "loc                  22.00     42.00      3442.00  \n",
       "v(g)                  3.00      6.00       470.00  \n",
       "ev(g)                 1.00      3.00       165.00  \n",
       "iv(g)                 2.00      4.00       402.00  \n",
       "n                    51.00    111.00      8441.00  \n",
       "v                   230.75    569.20     80843.08  \n",
       "l                     0.08      0.15         1.30  \n",
       "d                     9.75     18.13       418.20  \n",
       "i                    23.25     34.59       569.78  \n",
       "e                  2237.79  10273.67  31079782.27  \n",
       "b                     0.08      0.19        26.95  \n",
       "t                   124.33    569.58   1726654.57  \n",
       "lOCode               14.00     26.00      2824.00  \n",
       "lOComment             0.00      1.00       344.00  \n",
       "lOBlank               2.00      5.00       447.00  \n",
       "locCodeAndComment     0.00      0.00       108.00  "
      ]
     },
     "execution_count": 8,
     "metadata": {},
     "output_type": "execute_result"
    }
   ],
   "source": [
    "train.describe().T"
   ]
  },
  {
   "cell_type": "code",
   "execution_count": 9,
   "id": "9f789c89",
   "metadata": {
    "execution": {
     "iopub.execute_input": "2023-11-13T14:45:12.355804Z",
     "iopub.status.busy": "2023-11-13T14:45:12.355199Z",
     "iopub.status.idle": "2023-11-13T14:45:12.469456Z",
     "shell.execute_reply": "2023-11-13T14:45:12.468616Z"
    },
    "papermill": {
     "duration": 0.134067,
     "end_time": "2023-11-13T14:45:12.471555",
     "exception": false,
     "start_time": "2023-11-13T14:45:12.337488",
     "status": "completed"
    },
    "tags": []
   },
   "outputs": [
    {
     "data": {
      "text/plain": [
       "['loc', 'v(g)', 'ev(g)', 'iv(g)', 'l', 'b']"
      ]
     },
     "execution_count": 9,
     "metadata": {},
     "output_type": "execute_result"
    }
   ],
   "source": [
    "num_but_cat = [column for column, count in dict(train.nunique()).items() if (train[column].dtype == \"float64\") & (count<500)]\n",
    "\n",
    "num_but_cat"
   ]
  },
  {
   "cell_type": "markdown",
   "id": "140e0d82",
   "metadata": {
    "papermill": {
     "duration": 0.01667,
     "end_time": "2023-11-13T14:45:12.505346",
     "exception": false,
     "start_time": "2023-11-13T14:45:12.488676",
     "status": "completed"
    },
    "tags": []
   },
   "source": [
    "<div style=\"border-radius:10px; border:#65647C solid; padding: 15px; background-color: #F8EDE3; font-size:100%; text-align:left\">\n",
    "\n",
    "<h3 align=\"left\"><font color='#7D6E83'><b>🗨️ Comment: </b></font></h3>\n",
    "\n",
    "* Let's see the ones like numbers even though they are of object type. If there are, let's convert them to float type;"
   ]
  },
  {
   "cell_type": "code",
   "execution_count": 10,
   "id": "4971ed75",
   "metadata": {
    "execution": {
     "iopub.execute_input": "2023-11-13T14:45:12.540725Z",
     "iopub.status.busy": "2023-11-13T14:45:12.540139Z",
     "iopub.status.idle": "2023-11-13T14:45:12.652221Z",
     "shell.execute_reply": "2023-11-13T14:45:12.651194Z"
    },
    "papermill": {
     "duration": 0.13258,
     "end_time": "2023-11-13T14:45:12.654416",
     "exception": false,
     "start_time": "2023-11-13T14:45:12.521836",
     "status": "completed"
    },
    "tags": []
   },
   "outputs": [
    {
     "data": {
      "text/plain": [
       "['uniq_Op', 'uniq_Opnd', 'total_Op', 'total_Opnd', 'branchCount']"
      ]
     },
     "execution_count": 10,
     "metadata": {},
     "output_type": "execute_result"
    }
   ],
   "source": [
    "cardinals_train = [col for col in train.columns if (train[col].dtype==\"O\") & (train[col].nunique()>10)]\n",
    "\n",
    "cardinals_train"
   ]
  },
  {
   "cell_type": "code",
   "execution_count": 11,
   "id": "a46650fb",
   "metadata": {
    "execution": {
     "iopub.execute_input": "2023-11-13T14:45:12.694040Z",
     "iopub.status.busy": "2023-11-13T14:45:12.693450Z",
     "iopub.status.idle": "2023-11-13T14:45:12.719056Z",
     "shell.execute_reply": "2023-11-13T14:45:12.718227Z"
    },
    "papermill": {
     "duration": 0.047835,
     "end_time": "2023-11-13T14:45:12.721041",
     "exception": false,
     "start_time": "2023-11-13T14:45:12.673206",
     "status": "completed"
    },
    "tags": []
   },
   "outputs": [
    {
     "data": {
      "text/plain": [
       "[]"
      ]
     },
     "execution_count": 11,
     "metadata": {},
     "output_type": "execute_result"
    }
   ],
   "source": [
    "cardinals_test = [col for col in test.columns if (test[col].dtype==\"O\") & (test[col].nunique()>10)]\n",
    "\n",
    "cardinals_test"
   ]
  },
  {
   "cell_type": "markdown",
   "id": "6b8c5a92",
   "metadata": {
    "papermill": {
     "duration": 0.018128,
     "end_time": "2023-11-13T14:45:12.757450",
     "exception": false,
     "start_time": "2023-11-13T14:45:12.739322",
     "status": "completed"
    },
    "tags": []
   },
   "source": [
    "<div style=\"border-radius:10px; border:#65647C solid; padding: 15px; background-color: #F8EDE3; font-size:100%; text-align:left\">\n",
    "\n",
    "<h3 align=\"left\"><font color='#7D6E83'><b>🗨️ Comment: </b></font></h3>\n",
    "\n",
    "* Let's check if some columns contain special characters, if so, let's fix them with \"NaN\" values;"
   ]
  },
  {
   "cell_type": "code",
   "execution_count": 12,
   "id": "65f556d4",
   "metadata": {
    "execution": {
     "iopub.execute_input": "2023-11-13T14:45:12.794953Z",
     "iopub.status.busy": "2023-11-13T14:45:12.794638Z",
     "iopub.status.idle": "2023-11-13T14:45:12.816431Z",
     "shell.execute_reply": "2023-11-13T14:45:12.815497Z"
    },
    "papermill": {
     "duration": 0.04295,
     "end_time": "2023-11-13T14:45:12.818557",
     "exception": false,
     "start_time": "2023-11-13T14:45:12.775607",
     "status": "completed"
    },
    "tags": []
   },
   "outputs": [
    {
     "data": {
      "text/plain": [
       "101906    ?\n",
       "102121    ?\n",
       "103361    ?\n",
       "105977    ?\n",
       "110042    ?\n",
       "Name: uniq_Op, dtype: object"
      ]
     },
     "execution_count": 12,
     "metadata": {},
     "output_type": "execute_result"
    }
   ],
   "source": [
    "train[\"uniq_Op\"][train[\"uniq_Op\"] == \"?\"]"
   ]
  },
  {
   "cell_type": "code",
   "execution_count": 13,
   "id": "e3166fdb",
   "metadata": {
    "execution": {
     "iopub.execute_input": "2023-11-13T14:45:12.857273Z",
     "iopub.status.busy": "2023-11-13T14:45:12.856993Z",
     "iopub.status.idle": "2023-11-13T14:45:12.876899Z",
     "shell.execute_reply": "2023-11-13T14:45:12.876022Z"
    },
    "papermill": {
     "duration": 0.041567,
     "end_time": "2023-11-13T14:45:12.879031",
     "exception": false,
     "start_time": "2023-11-13T14:45:12.837464",
     "status": "completed"
    },
    "tags": []
   },
   "outputs": [
    {
     "data": {
      "text/plain": [
       "Index([101906, 102121, 103361, 105977, 110042], dtype='int64')"
      ]
     },
     "execution_count": 13,
     "metadata": {},
     "output_type": "execute_result"
    }
   ],
   "source": [
    "train[\"uniq_Op\"][train[\"uniq_Op\"] == \"?\"].index"
   ]
  },
  {
   "cell_type": "code",
   "execution_count": 14,
   "id": "f7eea7f7",
   "metadata": {
    "execution": {
     "iopub.execute_input": "2023-11-13T14:45:12.917137Z",
     "iopub.status.busy": "2023-11-13T14:45:12.916828Z",
     "iopub.status.idle": "2023-11-13T14:45:14.099898Z",
     "shell.execute_reply": "2023-11-13T14:45:14.099124Z"
    },
    "papermill": {
     "duration": 1.204906,
     "end_time": "2023-11-13T14:45:14.102263",
     "exception": false,
     "start_time": "2023-11-13T14:45:12.897357",
     "status": "completed"
    },
    "tags": []
   },
   "outputs": [],
   "source": [
    "def question_marks_to_NaN(df):\n",
    "    \n",
    "    for col in df.columns:\n",
    "        \n",
    "        df[col]=np.vectorize(lambda x: np.NaN if x == \"?\" else x)(df[col])\n",
    "        \n",
    "question_marks_to_NaN(train)\n",
    "question_marks_to_NaN(test)"
   ]
  },
  {
   "cell_type": "code",
   "execution_count": 15,
   "id": "a9411504",
   "metadata": {
    "execution": {
     "iopub.execute_input": "2023-11-13T14:45:14.139234Z",
     "iopub.status.busy": "2023-11-13T14:45:14.138953Z",
     "iopub.status.idle": "2023-11-13T14:45:14.147388Z",
     "shell.execute_reply": "2023-11-13T14:45:14.146474Z"
    },
    "papermill": {
     "duration": 0.029558,
     "end_time": "2023-11-13T14:45:14.149649",
     "exception": false,
     "start_time": "2023-11-13T14:45:14.120091",
     "status": "completed"
    },
    "tags": []
   },
   "outputs": [
    {
     "data": {
      "text/plain": [
       "101906   NaN\n",
       "102121   NaN\n",
       "103361   NaN\n",
       "105977   NaN\n",
       "110042   NaN\n",
       "Name: uniq_Op, dtype: float64"
      ]
     },
     "execution_count": 15,
     "metadata": {},
     "output_type": "execute_result"
    }
   ],
   "source": [
    "train.loc[[101906, 102121, 103361, 105977, 110042],\"uniq_Op\"]"
   ]
  },
  {
   "cell_type": "code",
   "execution_count": 16,
   "id": "b68ee5ed",
   "metadata": {
    "execution": {
     "iopub.execute_input": "2023-11-13T14:45:14.189271Z",
     "iopub.status.busy": "2023-11-13T14:45:14.188662Z",
     "iopub.status.idle": "2023-11-13T14:45:14.198863Z",
     "shell.execute_reply": "2023-11-13T14:45:14.198150Z"
    },
    "papermill": {
     "duration": 0.030619,
     "end_time": "2023-11-13T14:45:14.200889",
     "exception": false,
     "start_time": "2023-11-13T14:45:14.170270",
     "status": "completed"
    },
    "tags": []
   },
   "outputs": [],
   "source": [
    "train[cardinals_train]=train[cardinals_train].astype(\"float64\")\n",
    "test[cardinals_test]=test[cardinals_test].astype(\"float64\")"
   ]
  },
  {
   "cell_type": "markdown",
   "id": "5ff3ccc9",
   "metadata": {
    "papermill": {
     "duration": 0.017845,
     "end_time": "2023-11-13T14:45:14.237032",
     "exception": false,
     "start_time": "2023-11-13T14:45:14.219187",
     "status": "completed"
    },
    "tags": []
   },
   "source": [
    "<div style=\"border-radius:10px; border:#65647C solid; padding: 15px; background-color: #F8EDE3; font-size:100%; text-align:left\">\n",
    "\n",
    "<h3 align=\"left\"><font color='#7D6E83'><b>🗨️ Comment: </b></font></h3>\n",
    "\n",
    "* Let's check if there are duplicate rows and fix them if there are;"
   ]
  },
  {
   "cell_type": "code",
   "execution_count": 17,
   "id": "bd3d0691",
   "metadata": {
    "execution": {
     "iopub.execute_input": "2023-11-13T14:45:14.275500Z",
     "iopub.status.busy": "2023-11-13T14:45:14.274501Z",
     "iopub.status.idle": "2023-11-13T14:45:14.398900Z",
     "shell.execute_reply": "2023-11-13T14:45:14.397963Z"
    },
    "papermill": {
     "duration": 0.146024,
     "end_time": "2023-11-13T14:45:14.401422",
     "exception": false,
     "start_time": "2023-11-13T14:45:14.255398",
     "status": "completed"
    },
    "tags": []
   },
   "outputs": [],
   "source": [
    "train.duplicated().sum()\n",
    "train = train.drop_duplicates()"
   ]
  },
  {
   "cell_type": "markdown",
   "id": "0857b5cd",
   "metadata": {
    "papermill": {
     "duration": 0.017478,
     "end_time": "2023-11-13T14:45:14.436814",
     "exception": false,
     "start_time": "2023-11-13T14:45:14.419336",
     "status": "completed"
    },
    "tags": []
   },
   "source": [
    "<a id=\"7\"></a>\n",
    "<h1 style=\"border-radius: 10px; border: 2px solid #6B8E23; background-color: #F5F5DC; font-family: 'Pacifico', cursive; font-size: 200%; text-align: center; border-radius: 15px 50px; padding: 15px; box-shadow: 5px 5px 5px #556B2F; color: #556B2F;\">🐼 Feature Engineering 🐼</h1>"
   ]
  },
  {
   "cell_type": "markdown",
   "id": "d633a78d",
   "metadata": {
    "papermill": {
     "duration": 0.017582,
     "end_time": "2023-11-13T14:45:14.471827",
     "exception": false,
     "start_time": "2023-11-13T14:45:14.454245",
     "status": "completed"
    },
    "tags": []
   },
   "source": [
    "<div style=\"border-radius:10px; border:#65647C solid; padding: 15px; background-color: #F8EDE3; font-size:100%; text-align:left\">\n",
    "\n",
    "<h3 align=\"left\"><font color='#7D6E83'><b>🗨️ Comment: </b></font></h3>\n",
    "\n",
    "* Let's add new rows to make meaningful inferences;"
   ]
  },
  {
   "cell_type": "code",
   "execution_count": 18,
   "id": "53c3edfa",
   "metadata": {
    "execution": {
     "iopub.execute_input": "2023-11-13T14:45:14.512889Z",
     "iopub.status.busy": "2023-11-13T14:45:14.512178Z",
     "iopub.status.idle": "2023-11-13T14:45:14.530762Z",
     "shell.execute_reply": "2023-11-13T14:45:14.529961Z"
    },
    "papermill": {
     "duration": 0.041448,
     "end_time": "2023-11-13T14:45:14.533014",
     "exception": false,
     "start_time": "2023-11-13T14:45:14.491566",
     "status": "completed"
    },
    "tags": []
   },
   "outputs": [],
   "source": [
    "def add_new_columns(df):\n",
    "    \n",
    "    #df[\"Complexity\"] = df[\"v(g)\"] * df[\"ev(g)\"] * df[\"iv(g)\"]\n",
    "    df[\"LineOfCodeTotalComplex\"] = df[\"loc\"] / (df[\"v(g)\"] + df[\"ev(g)\"] + df[\"iv(g)\"])\n",
    "    df[\"SpecificComplexity\"] = df[\"v(g)\"] / df[\"loc\"]\n",
    "    df[\"SpecificComplexity2\"] = df[\"d\"] / df[\"v(g)\"]\n",
    "    df[\"SpecificComplexity3\"] = df[\"v\"] / df[\"ev(g)\"]\n",
    "    #df[\"SpecificComplexity5\"] = df[\"ev(g)\"] * df[\"i\"]\n",
    "    df[\"SpecificComplexity10\"] = df[\"v\"] / df[\"lOCode\"]\n",
    "    df[\"SpecificComplexity12\"] = df[\"i\"] / df[\"ev(g)\"]\n",
    "\n",
    "    \n",
    "add_new_columns(train)\n",
    "add_new_columns(test)"
   ]
  },
  {
   "cell_type": "markdown",
   "id": "5c30c749",
   "metadata": {
    "papermill": {
     "duration": 0.018474,
     "end_time": "2023-11-13T14:45:14.570467",
     "exception": false,
     "start_time": "2023-11-13T14:45:14.551993",
     "status": "completed"
    },
    "tags": []
   },
   "source": [
    "<div style=\"border-radius: 10px; border: #6B8E23 solid; padding: 15px; background-color: #F5F5DC; font-size: 100%; text-align: left\">\n",
    "\n",
    "<h3 align=\"left\"><font color='#556B2F'>👀 Features : </font></h3>\n",
    "    \n",
    "**Complexity**\n",
    "    \n",
    "The expression `V(G) * EV(G) * IV(G)` represents the product of three complexity metrics of the McCabe complexity metrics used to measure software complexity. These metrics are components aimed at assessing software maintainability, testability, and comprehensibility.\n",
    "\n",
    "- `V(G)` stands for Cyclomatic Complexity, measuring the complexity of the control flow of a program. A higher `V(G)` value indicates a more complex control flow.\n",
    "\n",
    "- `EV(G)` represents Essential Complexity, which is used to reduce the complexity of unnecessary code and enhance code comprehensibility.\n",
    "\n",
    "- `IV(G)` denotes Design Complexity, evaluating the complexity of the code's design.\n",
    "\n",
    "The given expression `V(G) * EV(G) * IV(G)` calculates the product of these three complexity metrics. This value represents the overall complexity of the software and can provide insights into software maintenance, testing, and comprehensibility. By using this expression, you can assess which areas of the software have higher complexity and whether they require attention and improvement. A high `V(G) * EV(G) * IV(G)` value may indicate a more complex software that needs more attention and potential enhancements.\n",
    "    \n",
    "**ComplexEffort**\n",
    "    \n",
    "The expression `Complexity * e` signifies the combination of the software's complexity and the effort required for software development and maintenance.\n",
    "\n",
    "1. *More Complex Software*: \n",
    "    \n",
    "If `Complexity * e` is high, it suggests that the software is both complex and requires a significant development and maintenance effort. This indicates that the software is more intricate and extensive.\n",
    "\n",
    "2. *Need for Optimization*: \n",
    "    \n",
    "If `Complexity * e` is high, it may indicate the need to make the software more efficient and optimized. A lower value may suggest that the software is less complex and requires less effort.\n",
    "\n",
    "Using these metrics, you can assess software projects, improve development processes, and manage costs more effectively. However, both metrics are not sufficient on their own and should be used in conjunction with other factors to evaluate all aspects of the software comprehensively.\n",
    "    \n",
    "**ComplexTime**\n",
    "\n",
    "The expression `Complexity * t` reflects the relationship between the complexity of the software and the development or maintenance time. The meaning of this product could be as follows:\n",
    "\n",
    "1. *More Complex Software Takes Longer*:\n",
    "    \n",
    "If `Complexity * t` is high, it suggests that as the complexity of the software increases, the development or maintenance time may also increase. Developing or maintaining a more complex software can take longer.\n",
    "\n",
    "2. *Need for Optimization and Speed*: \n",
    "    \n",
    "A low `Complexity * t` value may indicate that the software is less complex and has a shorter development or maintenance time. In this case, optimizing and speeding up the software may be a target.\n",
    "\n",
    "**LineOfCodeTotalComplex**\n",
    "    \n",
    "The expression `Complexity * loc` signifies the combination of the software's complexity and the size of the code. The meaning of this product could be as follows:\n",
    "\n",
    "1. *Larger and More Complex Software*:\n",
    "    \n",
    "If `Complexity * loc` is high, it indicates that both the complexity and size of the software are significant. This often suggests a large and complex software project.\n",
    "\n",
    "2. *Relationship Between Code Level and Complexity*:\n",
    "    \n",
    "This product can help assess the relationship between the software's complexity and the size of the code. It may indicate situations where more complexity requires more lines of code.\n",
    "\n",
    "3. *Need for Optimization*:\n",
    "    \n",
    "A high `Complexity * loc` value may suggest the need to make the code more understandable and manageable. This implies that the software may benefit from better design and code organization.\n",
    "\n",
    "**SpecificComplexity**\n",
    "    \n",
    "You can calculate your specific complexity based on the code size of the software by dividing v(g) (Cyclomatic Complexity) by loc (Lines of Code). For example, a column with Specific Complexity = v(g) / loc."
   ]
  },
  {
   "cell_type": "code",
   "execution_count": 19,
   "id": "71705156",
   "metadata": {
    "execution": {
     "iopub.execute_input": "2023-11-13T14:45:14.608424Z",
     "iopub.status.busy": "2023-11-13T14:45:14.608145Z",
     "iopub.status.idle": "2023-11-13T14:45:14.614066Z",
     "shell.execute_reply": "2023-11-13T14:45:14.613090Z"
    },
    "papermill": {
     "duration": 0.026747,
     "end_time": "2023-11-13T14:45:14.616004",
     "exception": false,
     "start_time": "2023-11-13T14:45:14.589257",
     "status": "completed"
    },
    "tags": []
   },
   "outputs": [],
   "source": [
    "train[\"defects\"] = train[\"defects\"].astype(int)"
   ]
  },
  {
   "cell_type": "markdown",
   "id": "e211048c",
   "metadata": {
    "papermill": {
     "duration": 0.017579,
     "end_time": "2023-11-13T14:45:14.651238",
     "exception": false,
     "start_time": "2023-11-13T14:45:14.633659",
     "status": "completed"
    },
    "tags": []
   },
   "source": [
    "<div style=\"border-radius:10px; border:#65647C solid; padding: 15px; background-color: #F8EDE3; font-size:100%; text-align:left\">\n",
    "\n",
    "<h3 align=\"left\"><font color='#7D6E83'><b>🗨️ Comment: </b></font></h3>\n",
    "\n",
    "* Let's identify and remove outlier values so that our models give better results;"
   ]
  },
  {
   "cell_type": "code",
   "execution_count": 20,
   "id": "96cf0fe8",
   "metadata": {
    "execution": {
     "iopub.execute_input": "2023-11-13T14:45:14.688417Z",
     "iopub.status.busy": "2023-11-13T14:45:14.688134Z",
     "iopub.status.idle": "2023-11-13T14:45:14.733323Z",
     "shell.execute_reply": "2023-11-13T14:45:14.732585Z"
    },
    "papermill": {
     "duration": 0.066281,
     "end_time": "2023-11-13T14:45:14.735284",
     "exception": false,
     "start_time": "2023-11-13T14:45:14.669003",
     "status": "completed"
    },
    "tags": []
   },
   "outputs": [],
   "source": [
    "num_cols = [col for col in train.columns if (train[col].dtype in [\"int64\",\"float64\"]) & (train[col].nunique()>50)]"
   ]
  },
  {
   "cell_type": "code",
   "execution_count": 21,
   "id": "be0f9798",
   "metadata": {
    "execution": {
     "iopub.execute_input": "2023-11-13T14:45:14.771927Z",
     "iopub.status.busy": "2023-11-13T14:45:14.771631Z",
     "iopub.status.idle": "2023-11-13T14:45:14.777246Z",
     "shell.execute_reply": "2023-11-13T14:45:14.776461Z"
    },
    "papermill": {
     "duration": 0.025762,
     "end_time": "2023-11-13T14:45:14.779117",
     "exception": false,
     "start_time": "2023-11-13T14:45:14.753355",
     "status": "completed"
    },
    "tags": []
   },
   "outputs": [],
   "source": [
    "def outlierFixer(df, cols):\n",
    "    \n",
    "    for col in cols:\n",
    "        \n",
    "        Q1 = df[col].quantile(0.01)\n",
    "        Q3 = df[col].quantile(0.95)\n",
    "        df[col][df[col] < Q1] = Q1\n",
    "        df[col][df[col] > Q3] = Q3\n",
    "        \n",
    "        df[col] = np.sqrt(df[col])\n",
    "        \n",
    "    return df"
   ]
  },
  {
   "cell_type": "code",
   "execution_count": 22,
   "id": "5836252f",
   "metadata": {
    "execution": {
     "iopub.execute_input": "2023-11-13T14:45:14.815099Z",
     "iopub.status.busy": "2023-11-13T14:45:14.814820Z",
     "iopub.status.idle": "2023-11-13T14:45:15.217141Z",
     "shell.execute_reply": "2023-11-13T14:45:15.216220Z"
    },
    "papermill": {
     "duration": 0.423075,
     "end_time": "2023-11-13T14:45:15.219522",
     "exception": false,
     "start_time": "2023-11-13T14:45:14.796447",
     "status": "completed"
    },
    "tags": []
   },
   "outputs": [],
   "source": [
    "train = outlierFixer(train, num_cols)\n",
    "test = outlierFixer(test, num_cols)"
   ]
  },
  {
   "cell_type": "markdown",
   "id": "0a760091",
   "metadata": {
    "papermill": {
     "duration": 0.017582,
     "end_time": "2023-11-13T14:45:15.255982",
     "exception": false,
     "start_time": "2023-11-13T14:45:15.238400",
     "status": "completed"
    },
    "tags": []
   },
   "source": [
    "<div style=\"border-radius:10px; border:#65647C solid; padding: 15px; background-color: #F8EDE3; font-size:100%; text-align:left\">\n",
    "\n",
    "<h3 align=\"left\"><font color='#7D6E83'><b>🗨️ Comment: </b></font></h3>\n",
    "\n",
    "* Now let's throw out the rows with the highest correlation."
   ]
  },
  {
   "cell_type": "code",
   "execution_count": 23,
   "id": "d0c70e15",
   "metadata": {
    "execution": {
     "iopub.execute_input": "2023-11-13T14:45:15.292588Z",
     "iopub.status.busy": "2023-11-13T14:45:15.292250Z",
     "iopub.status.idle": "2023-11-13T14:45:15.298140Z",
     "shell.execute_reply": "2023-11-13T14:45:15.297260Z"
    },
    "papermill": {
     "duration": 0.02669,
     "end_time": "2023-11-13T14:45:15.300092",
     "exception": false,
     "start_time": "2023-11-13T14:45:15.273402",
     "status": "completed"
    },
    "tags": []
   },
   "outputs": [],
   "source": [
    "def high_correlated_cols(df, plot=False, corr_th=0.91):\n",
    "    \n",
    "    corr = df.corr()\n",
    "    cor_matrix = corr.abs()\n",
    "    upper_triangle_matrix = cor_matrix.where(np.triu(np.ones(cor_matrix.shape), k=1).astype(bool))\n",
    "    drop_list = [col for col in upper_triangle_matrix.columns if any(upper_triangle_matrix[col] > corr_th)]\n",
    "    df.drop(drop_list, axis=1, inplace=True)\n",
    "\n",
    "    return drop_list"
   ]
  },
  {
   "cell_type": "code",
   "execution_count": 24,
   "id": "2ad1e47e",
   "metadata": {
    "execution": {
     "iopub.execute_input": "2023-11-13T14:45:15.336767Z",
     "iopub.status.busy": "2023-11-13T14:45:15.336209Z",
     "iopub.status.idle": "2023-11-13T14:45:15.577868Z",
     "shell.execute_reply": "2023-11-13T14:45:15.577027Z"
    },
    "papermill": {
     "duration": 0.262269,
     "end_time": "2023-11-13T14:45:15.580012",
     "exception": false,
     "start_time": "2023-11-13T14:45:15.317743",
     "status": "completed"
    },
    "tags": []
   },
   "outputs": [
    {
     "data": {
      "text/plain": [
       "['v',\n",
       " 'd',\n",
       " 'e',\n",
       " 'b',\n",
       " 't',\n",
       " 'lOCode',\n",
       " 'uniq_Op',\n",
       " 'uniq_Opnd',\n",
       " 'total_Op',\n",
       " 'total_Opnd',\n",
       " 'branchCount']"
      ]
     },
     "execution_count": 24,
     "metadata": {},
     "output_type": "execute_result"
    }
   ],
   "source": [
    "high_correlated_cols(train)"
   ]
  },
  {
   "cell_type": "code",
   "execution_count": 25,
   "id": "13b0b1ca",
   "metadata": {
    "execution": {
     "iopub.execute_input": "2023-11-13T14:45:15.617250Z",
     "iopub.status.busy": "2023-11-13T14:45:15.616513Z",
     "iopub.status.idle": "2023-11-13T14:45:15.755901Z",
     "shell.execute_reply": "2023-11-13T14:45:15.754854Z"
    },
    "papermill": {
     "duration": 0.160109,
     "end_time": "2023-11-13T14:45:15.758048",
     "exception": false,
     "start_time": "2023-11-13T14:45:15.597939",
     "status": "completed"
    },
    "tags": []
   },
   "outputs": [
    {
     "data": {
      "text/plain": [
       "['v',\n",
       " 'd',\n",
       " 'e',\n",
       " 'b',\n",
       " 't',\n",
       " 'lOCode',\n",
       " 'uniq_Op',\n",
       " 'uniq_Opnd',\n",
       " 'total_Op',\n",
       " 'total_Opnd',\n",
       " 'branchCount']"
      ]
     },
     "execution_count": 25,
     "metadata": {},
     "output_type": "execute_result"
    }
   ],
   "source": [
    "high_correlated_cols(test)"
   ]
  },
  {
   "cell_type": "code",
   "execution_count": 26,
   "id": "3f1e5cd5",
   "metadata": {
    "execution": {
     "iopub.execute_input": "2023-11-13T14:45:15.797567Z",
     "iopub.status.busy": "2023-11-13T14:45:15.797271Z",
     "iopub.status.idle": "2023-11-13T14:45:15.802325Z",
     "shell.execute_reply": "2023-11-13T14:45:15.801438Z"
    },
    "papermill": {
     "duration": 0.026769,
     "end_time": "2023-11-13T14:45:15.804392",
     "exception": false,
     "start_time": "2023-11-13T14:45:15.777623",
     "status": "completed"
    },
    "tags": []
   },
   "outputs": [],
   "source": [
    "new_num_cols = [col for col in train.columns if (train[col].dtype in [\"int64\",\"float64\"])]"
   ]
  },
  {
   "cell_type": "code",
   "execution_count": 27,
   "id": "0978d147",
   "metadata": {
    "execution": {
     "iopub.execute_input": "2023-11-13T14:45:15.841583Z",
     "iopub.status.busy": "2023-11-13T14:45:15.841322Z",
     "iopub.status.idle": "2023-11-13T14:45:23.532012Z",
     "shell.execute_reply": "2023-11-13T14:45:23.531100Z"
    },
    "papermill": {
     "duration": 7.713856,
     "end_time": "2023-11-13T14:45:23.536316",
     "exception": false,
     "start_time": "2023-11-13T14:45:15.822460",
     "status": "completed"
    },
    "tags": []
   },
   "outputs": [
    {
     "data": {
      "image/png": "[encoded data removed]",
      "text/plain": [
       "<Figure size 1000x5100 with 17 Axes>"
      ]
     },
     "metadata": {},
     "output_type": "display_data"
    }
   ],
   "source": [
    "plt.figure(figsize=(10,len(new_num_cols)*3))\n",
    "\n",
    "for idx,column in enumerate(new_num_cols):\n",
    "    \n",
    "    plt.subplot(len(new_num_cols)//2+1,2,idx+1)\n",
    "    sns.boxplot(x=\"defects\", y=column, data=train,palette=\"icefire\")\n",
    "    plt.title(f\"{column} Distribution\")\n",
    "    plt.tight_layout()"
   ]
  },
  {
   "cell_type": "code",
   "execution_count": 28,
   "id": "c4c70ca5",
   "metadata": {
    "execution": {
     "iopub.execute_input": "2023-11-13T14:45:23.581402Z",
     "iopub.status.busy": "2023-11-13T14:45:23.580613Z",
     "iopub.status.idle": "2023-11-13T14:45:23.704655Z",
     "shell.execute_reply": "2023-11-13T14:45:23.703682Z"
    },
    "papermill": {
     "duration": 0.148398,
     "end_time": "2023-11-13T14:45:23.706734",
     "exception": false,
     "start_time": "2023-11-13T14:45:23.558336",
     "status": "completed"
    },
    "tags": []
   },
   "outputs": [
    {
     "data": {
      "text/html": [
       "<div>\n",
       "<style scoped>\n",
       "    .dataframe tbody tr th:only-of-type {\n",
       "        vertical-align: middle;\n",
       "    }\n",
       "\n",
       "    .dataframe tbody tr th {\n",
       "        vertical-align: top;\n",
       "    }\n",
       "\n",
       "    .dataframe thead th {\n",
       "        text-align: right;\n",
       "    }\n",
       "</style>\n",
       "<table border=\"1\" class=\"dataframe\">\n",
       "  <thead>\n",
       "    <tr style=\"text-align: right;\">\n",
       "      <th></th>\n",
       "      <th>count</th>\n",
       "      <th>mean</th>\n",
       "      <th>std</th>\n",
       "      <th>min</th>\n",
       "      <th>25%</th>\n",
       "      <th>50%</th>\n",
       "      <th>75%</th>\n",
       "      <th>max</th>\n",
       "    </tr>\n",
       "  </thead>\n",
       "  <tbody>\n",
       "    <tr>\n",
       "      <th>loc</th>\n",
       "      <td>110675.0</td>\n",
       "      <td>5.338287</td>\n",
       "      <td>2.307250</td>\n",
       "      <td>2.000000</td>\n",
       "      <td>3.605551</td>\n",
       "      <td>4.795832</td>\n",
       "      <td>6.557439</td>\n",
       "      <td>10.816654</td>\n",
       "    </tr>\n",
       "    <tr>\n",
       "      <th>v(g)</th>\n",
       "      <td>110675.0</td>\n",
       "      <td>2.052493</td>\n",
       "      <td>0.880593</td>\n",
       "      <td>1.000000</td>\n",
       "      <td>1.414214</td>\n",
       "      <td>1.732051</td>\n",
       "      <td>2.449490</td>\n",
       "      <td>4.123106</td>\n",
       "    </tr>\n",
       "    <tr>\n",
       "      <th>ev(g)</th>\n",
       "      <td>110675.0</td>\n",
       "      <td>1.417717</td>\n",
       "      <td>0.718078</td>\n",
       "      <td>1.000000</td>\n",
       "      <td>1.000000</td>\n",
       "      <td>1.000000</td>\n",
       "      <td>1.732051</td>\n",
       "      <td>3.316625</td>\n",
       "    </tr>\n",
       "    <tr>\n",
       "      <th>iv(g)</th>\n",
       "      <td>110675.0</td>\n",
       "      <td>1.665501</td>\n",
       "      <td>0.625100</td>\n",
       "      <td>1.000000</td>\n",
       "      <td>1.000000</td>\n",
       "      <td>1.414214</td>\n",
       "      <td>2.000000</td>\n",
       "      <td>3.162278</td>\n",
       "    </tr>\n",
       "    <tr>\n",
       "      <th>n</th>\n",
       "      <td>110675.0</td>\n",
       "      <td>7.937806</td>\n",
       "      <td>4.510631</td>\n",
       "      <td>0.000000</td>\n",
       "      <td>5.000000</td>\n",
       "      <td>7.211103</td>\n",
       "      <td>10.630146</td>\n",
       "      <td>18.083141</td>\n",
       "    </tr>\n",
       "    <tr>\n",
       "      <th>l</th>\n",
       "      <td>110675.0</td>\n",
       "      <td>0.293200</td>\n",
       "      <td>0.140791</td>\n",
       "      <td>0.000000</td>\n",
       "      <td>0.200000</td>\n",
       "      <td>0.282843</td>\n",
       "      <td>0.374166</td>\n",
       "      <td>0.565685</td>\n",
       "    </tr>\n",
       "    <tr>\n",
       "      <th>i</th>\n",
       "      <td>110675.0</td>\n",
       "      <td>4.759892</td>\n",
       "      <td>1.887685</td>\n",
       "      <td>0.000000</td>\n",
       "      <td>3.940812</td>\n",
       "      <td>4.840455</td>\n",
       "      <td>5.900847</td>\n",
       "      <td>7.964923</td>\n",
       "    </tr>\n",
       "    <tr>\n",
       "      <th>lOComment</th>\n",
       "      <td>110675.0</td>\n",
       "      <td>0.577491</td>\n",
       "      <td>0.994752</td>\n",
       "      <td>0.000000</td>\n",
       "      <td>0.000000</td>\n",
       "      <td>0.000000</td>\n",
       "      <td>1.000000</td>\n",
       "      <td>3.162278</td>\n",
       "    </tr>\n",
       "    <tr>\n",
       "      <th>lOBlank</th>\n",
       "      <td>110675.0</td>\n",
       "      <td>1.570608</td>\n",
       "      <td>1.049164</td>\n",
       "      <td>0.000000</td>\n",
       "      <td>1.000000</td>\n",
       "      <td>1.414214</td>\n",
       "      <td>2.236068</td>\n",
       "      <td>3.741657</td>\n",
       "    </tr>\n",
       "    <tr>\n",
       "      <th>locCodeAndComment</th>\n",
       "      <td>110675.0</td>\n",
       "      <td>0.216481</td>\n",
       "      <td>1.129491</td>\n",
       "      <td>0.000000</td>\n",
       "      <td>0.000000</td>\n",
       "      <td>0.000000</td>\n",
       "      <td>0.000000</td>\n",
       "      <td>108.000000</td>\n",
       "    </tr>\n",
       "    <tr>\n",
       "      <th>defects</th>\n",
       "      <td>110675.0</td>\n",
       "      <td>0.226528</td>\n",
       "      <td>0.418587</td>\n",
       "      <td>0.000000</td>\n",
       "      <td>0.000000</td>\n",
       "      <td>0.000000</td>\n",
       "      <td>0.000000</td>\n",
       "      <td>1.000000</td>\n",
       "    </tr>\n",
       "    <tr>\n",
       "      <th>LineOfCodeTotalComplex</th>\n",
       "      <td>110675.0</td>\n",
       "      <td>1.750003</td>\n",
       "      <td>0.404179</td>\n",
       "      <td>1.000000</td>\n",
       "      <td>1.458380</td>\n",
       "      <td>1.695582</td>\n",
       "      <td>2.000000</td>\n",
       "      <td>2.645751</td>\n",
       "    </tr>\n",
       "    <tr>\n",
       "      <th>SpecificComplexity</th>\n",
       "      <td>110675.0</td>\n",
       "      <td>0.395018</td>\n",
       "      <td>0.089953</td>\n",
       "      <td>0.174078</td>\n",
       "      <td>0.333333</td>\n",
       "      <td>0.392232</td>\n",
       "      <td>0.451335</td>\n",
       "      <td>0.567962</td>\n",
       "    </tr>\n",
       "    <tr>\n",
       "      <th>SpecificComplexity2</th>\n",
       "      <td>110675.0</td>\n",
       "      <td>1.707436</td>\n",
       "      <td>0.636282</td>\n",
       "      <td>0.000000</td>\n",
       "      <td>1.500000</td>\n",
       "      <td>1.766352</td>\n",
       "      <td>2.049390</td>\n",
       "      <td>2.738613</td>\n",
       "    </tr>\n",
       "    <tr>\n",
       "      <th>SpecificComplexity3</th>\n",
       "      <td>110675.0</td>\n",
       "      <td>13.762142</td>\n",
       "      <td>7.994828</td>\n",
       "      <td>0.000000</td>\n",
       "      <td>8.505292</td>\n",
       "      <td>12.473572</td>\n",
       "      <td>18.044390</td>\n",
       "      <td>31.531571</td>\n",
       "    </tr>\n",
       "    <tr>\n",
       "      <th>SpecificComplexity10</th>\n",
       "      <td>101911.0</td>\n",
       "      <td>4.324644</td>\n",
       "      <td>0.750715</td>\n",
       "      <td>2.586933</td>\n",
       "      <td>3.782415</td>\n",
       "      <td>4.315219</td>\n",
       "      <td>4.855532</td>\n",
       "      <td>5.734515</td>\n",
       "    </tr>\n",
       "    <tr>\n",
       "      <th>SpecificComplexity12</th>\n",
       "      <td>110675.0</td>\n",
       "      <td>3.983527</td>\n",
       "      <td>1.867267</td>\n",
       "      <td>0.000000</td>\n",
       "      <td>2.759831</td>\n",
       "      <td>4.161730</td>\n",
       "      <td>5.254522</td>\n",
       "      <td>7.141330</td>\n",
       "    </tr>\n",
       "  </tbody>\n",
       "</table>\n",
       "</div>"
      ],
      "text/plain": [
       "                           count       mean       std       min       25%  \\\n",
       "loc                     110675.0   5.338287  2.307250  2.000000  3.605551   \n",
       "v(g)                    110675.0   2.052493  0.880593  1.000000  1.414214   \n",
       "ev(g)                   110675.0   1.417717  0.718078  1.000000  1.000000   \n",
       "iv(g)                   110675.0   1.665501  0.625100  1.000000  1.000000   \n",
       "n                       110675.0   7.937806  4.510631  0.000000  5.000000   \n",
       "l                       110675.0   0.293200  0.140791  0.000000  0.200000   \n",
       "i                       110675.0   4.759892  1.887685  0.000000  3.940812   \n",
       "lOComment               110675.0   0.577491  0.994752  0.000000  0.000000   \n",
       "lOBlank                 110675.0   1.570608  1.049164  0.000000  1.000000   \n",
       "locCodeAndComment       110675.0   0.216481  1.129491  0.000000  0.000000   \n",
       "defects                 110675.0   0.226528  0.418587  0.000000  0.000000   \n",
       "LineOfCodeTotalComplex  110675.0   1.750003  0.404179  1.000000  1.458380   \n",
       "SpecificComplexity      110675.0   0.395018  0.089953  0.174078  0.333333   \n",
       "SpecificComplexity2     110675.0   1.707436  0.636282  0.000000  1.500000   \n",
       "SpecificComplexity3     110675.0  13.762142  7.994828  0.000000  8.505292   \n",
       "SpecificComplexity10    101911.0   4.324644  0.750715  2.586933  3.782415   \n",
       "SpecificComplexity12    110675.0   3.983527  1.867267  0.000000  2.759831   \n",
       "\n",
       "                              50%        75%         max  \n",
       "loc                      4.795832   6.557439   10.816654  \n",
       "v(g)                     1.732051   2.449490    4.123106  \n",
       "ev(g)                    1.000000   1.732051    3.316625  \n",
       "iv(g)                    1.414214   2.000000    3.162278  \n",
       "n                        7.211103  10.630146   18.083141  \n",
       "l                        0.282843   0.374166    0.565685  \n",
       "i                        4.840455   5.900847    7.964923  \n",
       "lOComment                0.000000   1.000000    3.162278  \n",
       "lOBlank                  1.414214   2.236068    3.741657  \n",
       "locCodeAndComment        0.000000   0.000000  108.000000  \n",
       "defects                  0.000000   0.000000    1.000000  \n",
       "LineOfCodeTotalComplex   1.695582   2.000000    2.645751  \n",
       "SpecificComplexity       0.392232   0.451335    0.567962  \n",
       "SpecificComplexity2      1.766352   2.049390    2.738613  \n",
       "SpecificComplexity3     12.473572  18.044390   31.531571  \n",
       "SpecificComplexity10     4.315219   4.855532    5.734515  \n",
       "SpecificComplexity12     4.161730   5.254522    7.141330  "
      ]
     },
     "execution_count": 28,
     "metadata": {},
     "output_type": "execute_result"
    }
   ],
   "source": [
    "train.describe().T"
   ]
  },
  {
   "cell_type": "markdown",
   "id": "a347f1b0",
   "metadata": {
    "papermill": {
     "duration": 0.022829,
     "end_time": "2023-11-13T14:45:23.753012",
     "exception": false,
     "start_time": "2023-11-13T14:45:23.730183",
     "status": "completed"
    },
    "tags": []
   },
   "source": [
    "<a id=\"8\"></a>\n",
    "<h1 style=\"border-radius: 10px; border: 2px solid #6B8E23; background-color: #F5F5DC; font-family: 'Pacifico', cursive; font-size: 200%; text-align: center; border-radius: 15px 50px; padding: 15px; box-shadow: 5px 5px 5px #556B2F; color: #556B2F;\">🐼 Modelling 🐼</h1>"
   ]
  },
  {
   "cell_type": "code",
   "execution_count": 29,
   "id": "df7c9fdf",
   "metadata": {
    "execution": {
     "iopub.execute_input": "2023-11-13T14:45:23.797487Z",
     "iopub.status.busy": "2023-11-13T14:45:23.797202Z",
     "iopub.status.idle": "2023-11-13T14:45:29.155384Z",
     "shell.execute_reply": "2023-11-13T14:45:29.154408Z"
    },
    "papermill": {
     "duration": 5.382914,
     "end_time": "2023-11-13T14:45:29.157737",
     "exception": false,
     "start_time": "2023-11-13T14:45:23.774823",
     "status": "completed"
    },
    "tags": []
   },
   "outputs": [],
   "source": [
    "import pandas as pd\n",
    "from sklearn.model_selection import train_test_split, cross_val_score\n",
    "from sklearn.metrics import accuracy_score\n",
    "import lightgbm as lgb\n",
    "import matplotlib.pyplot as plt"
   ]
  },
  {
   "cell_type": "markdown",
   "id": "3c203042",
   "metadata": {
    "papermill": {
     "duration": 0.021776,
     "end_time": "2023-11-13T14:45:29.202156",
     "exception": false,
     "start_time": "2023-11-13T14:45:29.180380",
     "status": "completed"
    },
    "tags": []
   },
   "source": [
    "> **Train-Test Split**"
   ]
  },
  {
   "cell_type": "code",
   "execution_count": 30,
   "id": "1d37f2d3",
   "metadata": {
    "execution": {
     "iopub.execute_input": "2023-11-13T14:45:29.248240Z",
     "iopub.status.busy": "2023-11-13T14:45:29.247825Z",
     "iopub.status.idle": "2023-11-13T14:45:29.441143Z",
     "shell.execute_reply": "2023-11-13T14:45:29.440347Z"
    },
    "papermill": {
     "duration": 0.218694,
     "end_time": "2023-11-13T14:45:29.443631",
     "exception": false,
     "start_time": "2023-11-13T14:45:29.224937",
     "status": "completed"
    },
    "tags": []
   },
   "outputs": [],
   "source": [
    "from sklearn.model_selection import train_test_split\n",
    "from sklearn.metrics import roc_auc_score\n",
    "X= train.drop(\"defects\", axis=1)\n",
    "y= train[\"defects\"]\n",
    "\n",
    "\n",
    "X_train, X_test, y_train, y_test = train_test_split(X, y,test_size=0.1, random_state = 972, stratify=y)"
   ]
  },
  {
   "cell_type": "markdown",
   "id": "790395d8",
   "metadata": {
    "papermill": {
     "duration": 0.022718,
     "end_time": "2023-11-13T14:45:29.490043",
     "exception": false,
     "start_time": "2023-11-13T14:45:29.467325",
     "status": "completed"
    },
    "tags": []
   },
   "source": [
    "> **LGBM**"
   ]
  },
  {
   "cell_type": "code",
   "execution_count": 31,
   "id": "399fbc55",
   "metadata": {
    "execution": {
     "iopub.execute_input": "2023-11-13T14:45:29.538119Z",
     "iopub.status.busy": "2023-11-13T14:45:29.537688Z",
     "iopub.status.idle": "2023-11-13T14:45:29.546948Z",
     "shell.execute_reply": "2023-11-13T14:45:29.546015Z"
    },
    "papermill": {
     "duration": 0.036196,
     "end_time": "2023-11-13T14:45:29.549318",
     "exception": false,
     "start_time": "2023-11-13T14:45:29.513122",
     "status": "completed"
    },
    "tags": []
   },
   "outputs": [],
   "source": [
    "from lightgbm import LGBMClassifier\n",
    "import optuna\n",
    "\n",
    "def objective_lgb(trial):\n",
    "    \"\"\"Define the objective function\"\"\"\n",
    "\n",
    "    params = {\n",
    "        'metric': trial.suggest_categorical('metric', ['binary_error']),\n",
    "        'max_depth': trial.suggest_int('max_depth', 1, 10),\n",
    "        'min_child_samples': trial.suggest_int('min_child_samples', 1, 15),\n",
    "        'learning_rate': trial.suggest_loguniform('learning_rate', 0.01, 0.05),\n",
    "        'n_estimators': trial.suggest_int('n_estimators', 300, 700),\n",
    "        'min_child_weight': trial.suggest_int('min_child_weight', 1, 10),\n",
    "        'subsample': trial.suggest_float('subsample', 0.1, 0.9),\n",
    "        'colsample_bytree': trial.suggest_float('colsample_bytree', 0.01, 1.0),\n",
    "        'reg_alpha': trial.suggest_float('reg_alpha', 0.01, 1.0),\n",
    "        'reg_lambda': trial.suggest_float('reg_lambda', 0.01, 1.0),\n",
    "        \"seed\" : trial.suggest_categorical('seed', [42]),\n",
    "        'device': trial.suggest_categorical('device', ['gpu']),\n",
    "    }\n",
    "\n",
    "    model_lgb = LGBMClassifier(**params)\n",
    "    model_lgb.fit(X_train, y_train)\n",
    "    y_pred = model_lgb.predict(X_test)\n",
    "    return roc_auc_score(y_test,y_pred)"
   ]
  },
  {
   "cell_type": "code",
   "execution_count": 32,
   "id": "7666243d",
   "metadata": {
    "execution": {
     "iopub.execute_input": "2023-11-13T14:45:29.596423Z",
     "iopub.status.busy": "2023-11-13T14:45:29.596124Z",
     "iopub.status.idle": "2023-11-13T14:48:17.952734Z",
     "shell.execute_reply": "2023-11-13T14:48:17.951883Z"
    },
    "papermill": {
     "duration": 168.382702,
     "end_time": "2023-11-13T14:48:17.954755",
     "exception": false,
     "start_time": "2023-11-13T14:45:29.572053",
     "status": "completed"
    },
    "tags": []
   },
   "outputs": [
    {
     "name": "stderr",
     "output_type": "stream",
     "text": [
      "[I 2023-11-13 14:45:29,598] A new study created in memory with name: no-name-fd5d6df7-64a8-472c-b95b-ec3ff77ce7f4\n"
     ]
    },
    {
     "data": {
      "application/vnd.jupyter.widget-view+json": {
       "model_id": "175ef74c19a0439aae7ec05aecbc5d17",
       "version_major": 2,
       "version_minor": 0
      },
      "text/plain": [
       "  0%|          | 0/50 [00:00<?, ?it/s]"
      ]
     },
     "metadata": {},
     "output_type": "display_data"
    }
   ],
   "source": [
    "study_lgb = optuna.create_study(direction='maximize')\n",
    "optuna.logging.set_verbosity(optuna.logging.WARNING)\n",
    "study_lgb.optimize(objective_lgb, n_trials=50,show_progress_bar=True)"
   ]
  },
  {
   "cell_type": "code",
   "execution_count": 33,
   "id": "fb46de40",
   "metadata": {
    "execution": {
     "iopub.execute_input": "2023-11-13T14:48:18.001320Z",
     "iopub.status.busy": "2023-11-13T14:48:18.000626Z",
     "iopub.status.idle": "2023-11-13T14:48:18.005836Z",
     "shell.execute_reply": "2023-11-13T14:48:18.004942Z"
    },
    "papermill": {
     "duration": 0.030414,
     "end_time": "2023-11-13T14:48:18.007813",
     "exception": false,
     "start_time": "2023-11-13T14:48:17.977399",
     "status": "completed"
    },
    "tags": []
   },
   "outputs": [
    {
     "name": "stdout",
     "output_type": "stream",
     "text": [
      "Best parameters {'metric': 'binary_error', 'max_depth': 9, 'min_child_samples': 12, 'learning_rate': 0.03422589551627383, 'n_estimators': 446, 'min_child_weight': 7, 'subsample': 0.7410575470513258, 'colsample_bytree': 0.3897218346515884, 'reg_alpha': 0.6854155343715962, 'reg_lambda': 0.7725356236539009, 'seed': 42, 'device': 'gpu'}\n"
     ]
    }
   ],
   "source": [
    "# Print the best parameters\n",
    "print('Best parameters', study_lgb.best_params)"
   ]
  },
  {
   "cell_type": "code",
   "execution_count": 34,
   "id": "58406e3f",
   "metadata": {
    "execution": {
     "iopub.execute_input": "2023-11-13T14:48:18.054022Z",
     "iopub.status.busy": "2023-11-13T14:48:18.053371Z",
     "iopub.status.idle": "2023-11-13T14:48:21.264815Z",
     "shell.execute_reply": "2023-11-13T14:48:21.263948Z"
    },
    "papermill": {
     "duration": 3.237198,
     "end_time": "2023-11-13T14:48:21.266945",
     "exception": false,
     "start_time": "2023-11-13T14:48:18.029747",
     "status": "completed"
    },
    "tags": []
   },
   "outputs": [
    {
     "name": "stdout",
     "output_type": "stream",
     "text": [
      "ROC:  0.6716596869496632\n",
      "Accuracy:  0.8191181785327069\n"
     ]
    }
   ],
   "source": [
    "lgb = LGBMClassifier(**study_lgb.best_params)\n",
    "lgb.fit(X_train, y_train)\n",
    "y_pred = lgb.predict(X_test)\n",
    "\n",
    "print('ROC: ', roc_auc_score(y_test, y_pred))\n",
    "print('Accuracy: ', accuracy_score(y_test, y_pred))"
   ]
  },
  {
   "cell_type": "markdown",
   "id": "9c24d369",
   "metadata": {
    "papermill": {
     "duration": 0.022458,
     "end_time": "2023-11-13T14:48:21.313207",
     "exception": false,
     "start_time": "2023-11-13T14:48:21.290749",
     "status": "completed"
    },
    "tags": []
   },
   "source": [
    "> **XGBoost**"
   ]
  },
  {
   "cell_type": "code",
   "execution_count": 35,
   "id": "9b4d4e5d",
   "metadata": {
    "execution": {
     "iopub.execute_input": "2023-11-13T14:48:21.358970Z",
     "iopub.status.busy": "2023-11-13T14:48:21.358255Z",
     "iopub.status.idle": "2023-11-13T14:48:21.708882Z",
     "shell.execute_reply": "2023-11-13T14:48:21.708124Z"
    },
    "papermill": {
     "duration": 0.375869,
     "end_time": "2023-11-13T14:48:21.711167",
     "exception": false,
     "start_time": "2023-11-13T14:48:21.335298",
     "status": "completed"
    },
    "tags": []
   },
   "outputs": [],
   "source": [
    "from xgboost import XGBClassifier\n",
    "import optuna\n",
    "def objective_xg(trial):\n",
    "    \"\"\"Define the objective function\"\"\"\n",
    "\n",
    "    params = {\n",
    "        'booster': trial.suggest_categorical('booster', ['gbtree']),\n",
    "        'max_depth': trial.suggest_int('max_depth', 3, 10),\n",
    "        'learning_rate': trial.suggest_loguniform('learning_rate', 0.01, 0.05),\n",
    "        'n_estimators': trial.suggest_int('n_estimators', 500, 1000),\n",
    "        'min_child_weight': trial.suggest_int('min_child_weight', 1, 10),\n",
    "        'gamma': trial.suggest_loguniform('gamma', 1e-8, 1.0),\n",
    "        'subsample': trial.suggest_loguniform('subsample', 0.3, 0.9),\n",
    "        'reg_alpha': trial.suggest_loguniform('reg_alpha', 1e-8, 1.0),\n",
    "        'reg_lambda': trial.suggest_loguniform('reg_lambda', 1e-8, 1.0),\n",
    "        \"seed\" : trial.suggest_categorical('seed', [42]),\n",
    "        'tree_method': trial.suggest_categorical('tree_method', ['gpu_hist']),\n",
    "        'objective': trial.suggest_categorical('objective', ['binary:logistic']),\n",
    "    }\n",
    "    model_xgb = XGBClassifier(**params)\n",
    "    model_xgb.fit(X_train, y_train)\n",
    "    y_pred = model_xgb.predict(X_test)\n",
    "    return roc_auc_score(y_test,y_pred)"
   ]
  },
  {
   "cell_type": "code",
   "execution_count": 36,
   "id": "2b9fde43",
   "metadata": {
    "execution": {
     "iopub.execute_input": "2023-11-13T14:48:21.758937Z",
     "iopub.status.busy": "2023-11-13T14:48:21.758634Z",
     "iopub.status.idle": "2023-11-13T14:50:23.566006Z",
     "shell.execute_reply": "2023-11-13T14:50:23.565247Z"
    },
    "papermill": {
     "duration": 121.832696,
     "end_time": "2023-11-13T14:50:23.567838",
     "exception": false,
     "start_time": "2023-11-13T14:48:21.735142",
     "status": "completed"
    },
    "tags": []
   },
   "outputs": [
    {
     "data": {
      "application/vnd.jupyter.widget-view+json": {
       "model_id": "15a560b4631a4760949a2c3490e01c42",
       "version_major": 2,
       "version_minor": 0
      },
      "text/plain": [
       "  0%|          | 0/50 [00:00<?, ?it/s]"
      ]
     },
     "metadata": {},
     "output_type": "display_data"
    }
   ],
   "source": [
    "study_xgb = optuna.create_study(direction='maximize')\n",
    "optuna.logging.set_verbosity(optuna.logging.WARNING)\n",
    "study_xgb.optimize(objective_xg, n_trials=50,show_progress_bar=True)"
   ]
  },
  {
   "cell_type": "code",
   "execution_count": 37,
   "id": "c306a997",
   "metadata": {
    "execution": {
     "iopub.execute_input": "2023-11-13T14:50:23.613922Z",
     "iopub.status.busy": "2023-11-13T14:50:23.613638Z",
     "iopub.status.idle": "2023-11-13T14:50:23.618550Z",
     "shell.execute_reply": "2023-11-13T14:50:23.617683Z"
    },
    "papermill": {
     "duration": 0.030109,
     "end_time": "2023-11-13T14:50:23.620597",
     "exception": false,
     "start_time": "2023-11-13T14:50:23.590488",
     "status": "completed"
    },
    "tags": []
   },
   "outputs": [
    {
     "name": "stdout",
     "output_type": "stream",
     "text": [
      "Best parameters {'booster': 'gbtree', 'max_depth': 4, 'learning_rate': 0.01335729897420681, 'n_estimators': 774, 'min_child_weight': 1, 'gamma': 0.04874339317190966, 'subsample': 0.678422623076626, 'reg_alpha': 0.0002756515808864602, 'reg_lambda': 4.089043166021312e-06, 'seed': 42, 'tree_method': 'gpu_hist', 'objective': 'binary:logistic'}\n"
     ]
    }
   ],
   "source": [
    "# Print the best parameters\n",
    "print('Best parameters', study_xgb.best_params)"
   ]
  },
  {
   "cell_type": "code",
   "execution_count": 38,
   "id": "a638e93d",
   "metadata": {
    "execution": {
     "iopub.execute_input": "2023-11-13T14:50:23.665651Z",
     "iopub.status.busy": "2023-11-13T14:50:23.665107Z",
     "iopub.status.idle": "2023-11-13T14:50:25.068412Z",
     "shell.execute_reply": "2023-11-13T14:50:25.067503Z"
    },
    "papermill": {
     "duration": 1.428372,
     "end_time": "2023-11-13T14:50:25.070736",
     "exception": false,
     "start_time": "2023-11-13T14:50:23.642364",
     "status": "completed"
    },
    "tags": []
   },
   "outputs": [
    {
     "name": "stdout",
     "output_type": "stream",
     "text": [
      "ROC:  0.6723891011953123\n",
      "Accuracy:  0.81893747741236\n"
     ]
    }
   ],
   "source": [
    "xgb = XGBClassifier(**study_xgb.best_params)\n",
    "xgb.fit(X_train, y_train)\n",
    "y_pred = xgb.predict(X_test)\n",
    "\n",
    "print('ROC: ', roc_auc_score(y_test, y_pred))\n",
    "print('Accuracy: ', accuracy_score(y_test, y_pred))"
   ]
  },
  {
   "cell_type": "code",
   "execution_count": 39,
   "id": "4254fba6",
   "metadata": {
    "execution": {
     "iopub.execute_input": "2023-11-13T14:50:25.117931Z",
     "iopub.status.busy": "2023-11-13T14:50:25.117604Z",
     "iopub.status.idle": "2023-11-13T14:50:53.664492Z",
     "shell.execute_reply": "2023-11-13T14:50:53.663311Z"
    },
    "papermill": {
     "duration": 28.573117,
     "end_time": "2023-11-13T14:50:53.667175",
     "exception": false,
     "start_time": "2023-11-13T14:50:25.094058",
     "status": "completed"
    },
    "tags": []
   },
   "outputs": [
    {
     "name": "stdout",
     "output_type": "stream",
     "text": [
      "ROC:  0.6713334889851926\n",
      "Accuracy:  0.8183953740513191\n"
     ]
    }
   ],
   "source": [
    "from sklearn.ensemble import StackingClassifier\n",
    "stk = StackingClassifier(estimators=[\n",
    "                                      ('lgbm', lgb), \n",
    "                                      ('xgb', xgb)])\n",
    "stk.fit(X_train,y_train)\n",
    "stk_pred = stk.predict(X_test)\n",
    "\n",
    "# print('Accuracy: ', roc_auc_score(y_test, stk_pred))\n",
    "\n",
    "print('ROC: ', roc_auc_score(y_test, stk_pred))\n",
    "print('Accuracy: ', accuracy_score(y_test, stk_pred))"
   ]
  },
  {
   "cell_type": "code",
   "execution_count": 40,
   "id": "e84e7883",
   "metadata": {
    "execution": {
     "iopub.execute_input": "2023-11-13T14:50:53.764857Z",
     "iopub.status.busy": "2023-11-13T14:50:53.763383Z",
     "iopub.status.idle": "2023-11-13T14:50:54.328299Z",
     "shell.execute_reply": "2023-11-13T14:50:54.327422Z"
    },
    "papermill": {
     "duration": 0.617815,
     "end_time": "2023-11-13T14:50:54.330385",
     "exception": false,
     "start_time": "2023-11-13T14:50:53.712570",
     "status": "completed"
    },
    "tags": []
   },
   "outputs": [
    {
     "data": {
      "image/png": "[encoded data removed]",
      "text/plain": [
       "<Figure size 640x480 with 2 Axes>"
      ]
     },
     "metadata": {},
     "output_type": "display_data"
    }
   ],
   "source": [
    "from sklearn.metrics import ConfusionMatrixDisplay\n",
    "\n",
    "ConfusionMatrixDisplay.from_estimator(stk,X_test, y_test,display_labels=(\"False\", \"True\"),cmap=\"RdPu\");"
   ]
  },
  {
   "cell_type": "code",
   "execution_count": 41,
   "id": "dff877ce",
   "metadata": {
    "execution": {
     "iopub.execute_input": "2023-11-13T14:50:54.378962Z",
     "iopub.status.busy": "2023-11-13T14:50:54.378638Z",
     "iopub.status.idle": "2023-11-13T14:50:59.139561Z",
     "shell.execute_reply": "2023-11-13T14:50:59.138110Z"
    },
    "papermill": {
     "duration": 4.787483,
     "end_time": "2023-11-13T14:50:59.141619",
     "exception": false,
     "start_time": "2023-11-13T14:50:54.354136",
     "status": "completed"
    },
    "tags": []
   },
   "outputs": [
    {
     "name": "stdout",
     "output_type": "stream",
     "text": [
      "ROC:  0.6709588342455399\n",
      "Accuracy:  0.8180339718106252\n"
     ]
    }
   ],
   "source": [
    "from sklearn.ensemble import VotingClassifier\n",
    "voting = VotingClassifier(estimators=[\n",
    "                                      ('lgbm', lgb), \n",
    "                                      ('xgb', xgb)], voting='soft')\n",
    "voting.fit(X_train,y_train)\n",
    "voting_pred = voting.predict(X_test)\n",
    "\n",
    "print('ROC: ', roc_auc_score(y_test, voting_pred))\n",
    "print('Accuracy: ', accuracy_score(y_test, voting_pred))"
   ]
  },
  {
   "cell_type": "code",
   "execution_count": 42,
   "id": "eb82aa30",
   "metadata": {
    "execution": {
     "iopub.execute_input": "2023-11-13T14:50:59.190949Z",
     "iopub.status.busy": "2023-11-13T14:50:59.190148Z",
     "iopub.status.idle": "2023-11-13T14:50:59.588806Z",
     "shell.execute_reply": "2023-11-13T14:50:59.587892Z"
    },
    "papermill": {
     "duration": 0.425072,
     "end_time": "2023-11-13T14:50:59.590892",
     "exception": false,
     "start_time": "2023-11-13T14:50:59.165820",
     "status": "completed"
    },
    "tags": []
   },
   "outputs": [
    {
     "data": {
      "image/png": "[encoded data removed]",
      "text/plain": [
       "<Figure size 640x480 with 2 Axes>"
      ]
     },
     "metadata": {},
     "output_type": "display_data"
    }
   ],
   "source": [
    "from sklearn.metrics import ConfusionMatrixDisplay\n",
    "\n",
    "ConfusionMatrixDisplay.from_estimator(voting,X_test, y_test,display_labels=(\"False\", \"True\"),cmap=\"RdPu\");"
   ]
  },
  {
   "cell_type": "code",
   "execution_count": 43,
   "id": "023657a9",
   "metadata": {
    "execution": {
     "iopub.execute_input": "2023-11-13T14:50:59.641189Z",
     "iopub.status.busy": "2023-11-13T14:50:59.640473Z",
     "iopub.status.idle": "2023-11-13T14:51:00.789551Z",
     "shell.execute_reply": "2023-11-13T14:51:00.788654Z"
    },
    "papermill": {
     "duration": 1.176375,
     "end_time": "2023-11-13T14:51:00.791840",
     "exception": false,
     "start_time": "2023-11-13T14:50:59.615465",
     "status": "completed"
    },
    "tags": []
   },
   "outputs": [
    {
     "data": {
      "text/html": [
       "<div>\n",
       "<style scoped>\n",
       "    .dataframe tbody tr th:only-of-type {\n",
       "        vertical-align: middle;\n",
       "    }\n",
       "\n",
       "    .dataframe tbody tr th {\n",
       "        vertical-align: top;\n",
       "    }\n",
       "\n",
       "    .dataframe thead th {\n",
       "        text-align: right;\n",
       "    }\n",
       "</style>\n",
       "<table border=\"1\" class=\"dataframe\">\n",
       "  <thead>\n",
       "    <tr style=\"text-align: right;\">\n",
       "      <th></th>\n",
       "      <th>id</th>\n",
       "      <th>defects</th>\n",
       "    </tr>\n",
       "  </thead>\n",
       "  <tbody>\n",
       "    <tr>\n",
       "      <th>0</th>\n",
       "      <td>101763</td>\n",
       "      <td>0.200212</td>\n",
       "    </tr>\n",
       "    <tr>\n",
       "      <th>1</th>\n",
       "      <td>101764</td>\n",
       "      <td>0.169480</td>\n",
       "    </tr>\n",
       "    <tr>\n",
       "      <th>2</th>\n",
       "      <td>101765</td>\n",
       "      <td>0.623866</td>\n",
       "    </tr>\n",
       "    <tr>\n",
       "      <th>3</th>\n",
       "      <td>101766</td>\n",
       "      <td>0.485020</td>\n",
       "    </tr>\n",
       "    <tr>\n",
       "      <th>4</th>\n",
       "      <td>101767</td>\n",
       "      <td>0.155529</td>\n",
       "    </tr>\n",
       "    <tr>\n",
       "      <th>...</th>\n",
       "      <td>...</td>\n",
       "      <td>...</td>\n",
       "    </tr>\n",
       "    <tr>\n",
       "      <th>67837</th>\n",
       "      <td>169600</td>\n",
       "      <td>0.259810</td>\n",
       "    </tr>\n",
       "    <tr>\n",
       "      <th>67838</th>\n",
       "      <td>169601</td>\n",
       "      <td>0.132839</td>\n",
       "    </tr>\n",
       "    <tr>\n",
       "      <th>67839</th>\n",
       "      <td>169602</td>\n",
       "      <td>0.169784</td>\n",
       "    </tr>\n",
       "    <tr>\n",
       "      <th>67840</th>\n",
       "      <td>169603</td>\n",
       "      <td>0.113790</td>\n",
       "    </tr>\n",
       "    <tr>\n",
       "      <th>67841</th>\n",
       "      <td>169604</td>\n",
       "      <td>0.760686</td>\n",
       "    </tr>\n",
       "  </tbody>\n",
       "</table>\n",
       "<p>67842 rows × 2 columns</p>\n",
       "</div>"
      ],
      "text/plain": [
       "           id   defects\n",
       "0      101763  0.200212\n",
       "1      101764  0.169480\n",
       "2      101765  0.623866\n",
       "3      101766  0.485020\n",
       "4      101767  0.155529\n",
       "...       ...       ...\n",
       "67837  169600  0.259810\n",
       "67838  169601  0.132839\n",
       "67839  169602  0.169784\n",
       "67840  169603  0.113790\n",
       "67841  169604  0.760686\n",
       "\n",
       "[67842 rows x 2 columns]"
      ]
     },
     "execution_count": 43,
     "metadata": {},
     "output_type": "execute_result"
    }
   ],
   "source": [
    "sub[\"defects\"]=voting.predict_proba(test)[:, 1]\n",
    "sub.to_csv('submission.csv',index=False)\n",
    "sub"
   ]
  }
 ],
 "metadata": {
  "kernelspec": {
   "display_name": "Python 3",
   "language": "python",
   "name": "python3"
  },
  "language_info": {
   "codemirror_mode": {
    "name": "ipython",
    "version": 3
   },
   "file_extension": ".py",
   "mimetype": "text/x-python",
   "name": "python",
   "nbconvert_exporter": "python",
   "pygments_lexer": "ipython3",
   "version": "3.10.12"
  },
  "papermill": {
   "default_parameters": {},
   "duration": 360.630153,
   "end_time": "2023-11-13T14:51:03.537201",
   "environment_variables": {},
   "exception": null,
   "input_path": "__notebook__.ipynb",
   "output_path": "__notebook__.ipynb",
   "parameters": {},
   "start_time": "2023-11-13T14:45:02.907048",
   "version": "2.4.0"
  },
  "widgets": {
   "application/vnd.jupyter.widget-state+json": {
    "state": {
     "079a8e0ea49e4c3b85c976ad62036ba4": {
      "model_module": "@jupyter-widgets/base",
      "model_module_version": "1.2.0",
      "model_name": "LayoutModel",
      "state": {
       "_model_module": "@jupyter-widgets/base",
       "_model_module_version": "1.2.0",
       "_model_name": "LayoutModel",
       "_view_count": null,
       "_view_module": "@jupyter-widgets/base",
       "_view_module_version": "1.2.0",
       "_view_name": "LayoutView",
       "align_content": null,
       "align_items": null,
       "align_self": null,
       "border": null,
       "bottom": null,
       "display": null,
       "flex": null,
       "flex_flow": null,
       "grid_area": null,
       "grid_auto_columns": null,
       "grid_auto_flow": null,
       "grid_auto_rows": null,
       "grid_column": null,
       "grid_gap": null,
       "grid_row": null,
       "grid_template_areas": null,
       "grid_template_columns": null,
       "grid_template_rows": null,
       "height": null,
       "justify_content": null,
       "justify_items": null,
       "left": null,
       "margin": null,
       "max_height": null,
       "max_width": null,
       "min_height": null,
       "min_width": null,
       "object_fit": null,
       "object_position": null,
       "order": null,
       "overflow": null,
       "overflow_x": null,
       "overflow_y": null,
       "padding": null,
       "right": null,
       "top": null,
       "visibility": null,
       "width": null
      }
     },
     "0d751eda8e264c949a2e47d6a5262d32": {
      "model_module": "@jupyter-widgets/controls",
      "model_module_version": "1.5.0",
      "model_name": "HTMLModel",
      "state": {
       "_dom_classes": [],
       "_model_module": "@jupyter-widgets/controls",
       "_model_module_version": "1.5.0",
       "_model_name": "HTMLModel",
       "_view_count": null,
       "_view_module": "@jupyter-widgets/controls",
       "_view_module_version": "1.5.0",
       "_view_name": "HTMLView",
       "description": "",
       "description_tooltip": null,
       "layout": "IPY_MODEL_c277a06257c84a5890f6d689f0648c42",
       "placeholder": "​",
       "style": "IPY_MODEL_3026913b0a3b4016950a423d6f6c8eb0",
       "value": " 50/50 [02:01&lt;00:00,  2.46s/it]"
      }
     },
     "0df3c89541514b3289a9611fab24c91b": {
      "model_module": "@jupyter-widgets/controls",
      "model_module_version": "1.5.0",
      "model_name": "FloatProgressModel",
      "state": {
       "_dom_classes": [],
       "_model_module": "@jupyter-widgets/controls",
       "_model_module_version": "1.5.0",
       "_model_name": "FloatProgressModel",
       "_view_count": null,
       "_view_module": "@jupyter-widgets/controls",
       "_view_module_version": "1.5.0",
       "_view_name": "ProgressView",
       "bar_style": "success",
       "description": "",
       "description_tooltip": null,
       "layout": "IPY_MODEL_e2c454242bb344298e94403a98c7676b",
       "max": 50.0,
       "min": 0.0,
       "orientation": "horizontal",
       "style": "IPY_MODEL_d2d946d0539941d68921fc75976d3bb8",
       "value": 50.0
      }
     },
     "15a560b4631a4760949a2c3490e01c42": {
      "model_module": "@jupyter-widgets/controls",
      "model_module_version": "1.5.0",
      "model_name": "HBoxModel",
      "state": {
       "_dom_classes": [],
       "_model_module": "@jupyter-widgets/controls",
       "_model_module_version": "1.5.0",
       "_model_name": "HBoxModel",
       "_view_count": null,
       "_view_module": "@jupyter-widgets/controls",
       "_view_module_version": "1.5.0",
       "_view_name": "HBoxView",
       "box_style": "",
       "children": [
        "IPY_MODEL_54237673202b4b07a137133887b363f7",
        "IPY_MODEL_9409fb693f3e4d4384eac30e23ac05e1",
        "IPY_MODEL_0d751eda8e264c949a2e47d6a5262d32"
       ],
       "layout": "IPY_MODEL_a43981248b9448d3818e5a5ffb648871"
      }
     },
     "175ef74c19a0439aae7ec05aecbc5d17": {
      "model_module": "@jupyter-widgets/controls",
      "model_module_version": "1.5.0",
      "model_name": "HBoxModel",
      "state": {
       "_dom_classes": [],
       "_model_module": "@jupyter-widgets/controls",
       "_model_module_version": "1.5.0",
       "_model_name": "HBoxModel",
       "_view_count": null,
       "_view_module": "@jupyter-widgets/controls",
       "_view_module_version": "1.5.0",
       "_view_name": "HBoxView",
       "box_style": "",
       "children": [
        "IPY_MODEL_2fc5803836654064a00b41a8768b427d",
        "IPY_MODEL_0df3c89541514b3289a9611fab24c91b",
        "IPY_MODEL_d31af8b4267d4b9eafd6fec818b9a46d"
       ],
       "layout": "IPY_MODEL_e6848d1201f8411cb1e9fdd6571c282f"
      }
     },
     "2c82bfc5840444fab0b88fc1b38de1d2": {
      "model_module": "@jupyter-widgets/base",
      "model_module_version": "1.2.0",
      "model_name": "LayoutModel",
      "state": {
       "_model_module": "@jupyter-widgets/base",
       "_model_module_version": "1.2.0",
       "_model_name": "LayoutModel",
       "_view_count": null,
       "_view_module": "@jupyter-widgets/base",
       "_view_module_version": "1.2.0",
       "_view_name": "LayoutView",
       "align_content": null,
       "align_items": null,
       "align_self": null,
       "border": null,
       "bottom": null,
       "display": null,
       "flex": null,
       "flex_flow": null,
       "grid_area": null,
       "grid_auto_columns": null,
       "grid_auto_flow": null,
       "grid_auto_rows": null,
       "grid_column": null,
       "grid_gap": null,
       "grid_row": null,
       "grid_template_areas": null,
       "grid_template_columns": null,
       "grid_template_rows": null,
       "height": null,
       "justify_content": null,
       "justify_items": null,
       "left": null,
       "margin": null,
       "max_height": null,
       "max_width": null,
       "min_height": null,
       "min_width": null,
       "object_fit": null,
       "object_position": null,
       "order": null,
       "overflow": null,
       "overflow_x": null,
       "overflow_y": null,
       "padding": null,
       "right": null,
       "top": null,
       "visibility": null,
       "width": null
      }
     },
     "2fc5803836654064a00b41a8768b427d": {
      "model_module": "@jupyter-widgets/controls",
      "model_module_version": "1.5.0",
      "model_name": "HTMLModel",
      "state": {
       "_dom_classes": [],
       "_model_module": "@jupyter-widgets/controls",
       "_model_module_version": "1.5.0",
       "_model_name": "HTMLModel",
       "_view_count": null,
       "_view_module": "@jupyter-widgets/controls",
       "_view_module_version": "1.5.0",
       "_view_name": "HTMLView",
       "description": "",
       "description_tooltip": null,
       "layout": "IPY_MODEL_ce8f8ba364d24503b47a226382be4ae0",
       "placeholder": "​",
       "style": "IPY_MODEL_da34d85084174110adcb88d4e25b0a3a",
       "value": "Best trial: 25. Best value: 0.67166: 100%"
      }
     },
     "3026913b0a3b4016950a423d6f6c8eb0": {
      "model_module": "@jupyter-widgets/controls",
      "model_module_version": "1.5.0",
      "model_name": "DescriptionStyleModel",
      "state": {
       "_model_module": "@jupyter-widgets/controls",
       "_model_module_version": "1.5.0",
       "_model_name": "DescriptionStyleModel",
       "_view_count": null,
       "_view_module": "@jupyter-widgets/base",
       "_view_module_version": "1.2.0",
       "_view_name": "StyleView",
       "description_width": ""
      }
     },
     "3dd69ace7bf44819b70345f75d36a077": {
      "model_module": "@jupyter-widgets/base",
      "model_module_version": "1.2.0",
      "model_name": "LayoutModel",
      "state": {
       "_model_module": "@jupyter-widgets/base",
       "_model_module_version": "1.2.0",
       "_model_name": "LayoutModel",
       "_view_count": null,
       "_view_module": "@jupyter-widgets/base",
       "_view_module_version": "1.2.0",
       "_view_name": "LayoutView",
       "align_content": null,
       "align_items": null,
       "align_self": null,
       "border": null,
       "bottom": null,
       "display": null,
       "flex": null,
       "flex_flow": null,
       "grid_area": null,
       "grid_auto_columns": null,
       "grid_auto_flow": null,
       "grid_auto_rows": null,
       "grid_column": null,
       "grid_gap": null,
       "grid_row": null,
       "grid_template_areas": null,
       "grid_template_columns": null,
       "grid_template_rows": null,
       "height": null,
       "justify_content": null,
       "justify_items": null,
       "left": null,
       "margin": null,
       "max_height": null,
       "max_width": null,
       "min_height": null,
       "min_width": null,
       "object_fit": null,
       "object_position": null,
       "order": null,
       "overflow": null,
       "overflow_x": null,
       "overflow_y": null,
       "padding": null,
       "right": null,
       "top": null,
       "visibility": null,
       "width": null
      }
     },
     "445bdbfae5cf4eef9759cbc04160d06b": {
      "model_module": "@jupyter-widgets/controls",
      "model_module_version": "1.5.0",
      "model_name": "DescriptionStyleModel",
      "state": {
       "_model_module": "@jupyter-widgets/controls",
       "_model_module_version": "1.5.0",
       "_model_name": "DescriptionStyleModel",
       "_view_count": null,
       "_view_module": "@jupyter-widgets/base",
       "_view_module_version": "1.2.0",
       "_view_name": "StyleView",
       "description_width": ""
      }
     },
     "54237673202b4b07a137133887b363f7": {
      "model_module": "@jupyter-widgets/controls",
      "model_module_version": "1.5.0",
      "model_name": "HTMLModel",
      "state": {
       "_dom_classes": [],
       "_model_module": "@jupyter-widgets/controls",
       "_model_module_version": "1.5.0",
       "_model_name": "HTMLModel",
       "_view_count": null,
       "_view_module": "@jupyter-widgets/controls",
       "_view_module_version": "1.5.0",
       "_view_name": "HTMLView",
       "description": "",
       "description_tooltip": null,
       "layout": "IPY_MODEL_2c82bfc5840444fab0b88fc1b38de1d2",
       "placeholder": "​",
       "style": "IPY_MODEL_8f257ee3ae4e4c16bb70ac753b42c404",
       "value": "Best trial: 21. Best value: 0.672389: 100%"
      }
     },
     "69b119555f724cd99bcc14a83eed910e": {
      "model_module": "@jupyter-widgets/controls",
      "model_module_version": "1.5.0",
      "model_name": "ProgressStyleModel",
      "state": {
       "_model_module": "@jupyter-widgets/controls",
       "_model_module_version": "1.5.0",
       "_model_name": "ProgressStyleModel",
       "_view_count": null,
       "_view_module": "@jupyter-widgets/base",
       "_view_module_version": "1.2.0",
       "_view_name": "StyleView",
       "bar_color": null,
       "description_width": ""
      }
     },
     "8f257ee3ae4e4c16bb70ac753b42c404": {
      "model_module": "@jupyter-widgets/controls",
      "model_module_version": "1.5.0",
      "model_name": "DescriptionStyleModel",
      "state": {
       "_model_module": "@jupyter-widgets/controls",
       "_model_module_version": "1.5.0",
       "_model_name": "DescriptionStyleModel",
       "_view_count": null,
       "_view_module": "@jupyter-widgets/base",
       "_view_module_version": "1.2.0",
       "_view_name": "StyleView",
       "description_width": ""
      }
     },
     "9409fb693f3e4d4384eac30e23ac05e1": {
      "model_module": "@jupyter-widgets/controls",
      "model_module_version": "1.5.0",
      "model_name": "FloatProgressModel",
      "state": {
       "_dom_classes": [],
       "_model_module": "@jupyter-widgets/controls",
       "_model_module_version": "1.5.0",
       "_model_name": "FloatProgressModel",
       "_view_count": null,
       "_view_module": "@jupyter-widgets/controls",
       "_view_module_version": "1.5.0",
       "_view_name": "ProgressView",
       "bar_style": "success",
       "description": "",
       "description_tooltip": null,
       "layout": "IPY_MODEL_3dd69ace7bf44819b70345f75d36a077",
       "max": 50.0,
       "min": 0.0,
       "orientation": "horizontal",
       "style": "IPY_MODEL_69b119555f724cd99bcc14a83eed910e",
       "value": 50.0
      }
     },
     "a43981248b9448d3818e5a5ffb648871": {
      "model_module": "@jupyter-widgets/base",
      "model_module_version": "1.2.0",
      "model_name": "LayoutModel",
      "state": {
       "_model_module": "@jupyter-widgets/base",
       "_model_module_version": "1.2.0",
       "_model_name": "LayoutModel",
       "_view_count": null,
       "_view_module": "@jupyter-widgets/base",
       "_view_module_version": "1.2.0",
       "_view_name": "LayoutView",
       "align_content": null,
       "align_items": null,
       "align_self": null,
       "border": null,
       "bottom": null,
       "display": null,
       "flex": null,
       "flex_flow": null,
       "grid_area": null,
       "grid_auto_columns": null,
       "grid_auto_flow": null,
       "grid_auto_rows": null,
       "grid_column": null,
       "grid_gap": null,
       "grid_row": null,
       "grid_template_areas": null,
       "grid_template_columns": null,
       "grid_template_rows": null,
       "height": null,
       "justify_content": null,
       "justify_items": null,
       "left": null,
       "margin": null,
       "max_height": null,
       "max_width": null,
       "min_height": null,
       "min_width": null,
       "object_fit": null,
       "object_position": null,
       "order": null,
       "overflow": null,
       "overflow_x": null,
       "overflow_y": null,
       "padding": null,
       "right": null,
       "top": null,
       "visibility": null,
       "width": null
      }
     },
     "c277a06257c84a5890f6d689f0648c42": {
      "model_module": "@jupyter-widgets/base",
      "model_module_version": "1.2.0",
      "model_name": "LayoutModel",
      "state": {
       "_model_module": "@jupyter-widgets/base",
       "_model_module_version": "1.2.0",
       "_model_name": "LayoutModel",
       "_view_count": null,
       "_view_module": "@jupyter-widgets/base",
       "_view_module_version": "1.2.0",
       "_view_name": "LayoutView",
       "align_content": null,
       "align_items": null,
       "align_self": null,
       "border": null,
       "bottom": null,
       "display": null,
       "flex": null,
       "flex_flow": null,
       "grid_area": null,
       "grid_auto_columns": null,
       "grid_auto_flow": null,
       "grid_auto_rows": null,
       "grid_column": null,
       "grid_gap": null,
       "grid_row": null,
       "grid_template_areas": null,
       "grid_template_columns": null,
       "grid_template_rows": null,
       "height": null,
       "justify_content": null,
       "justify_items": null,
       "left": null,
       "margin": null,
       "max_height": null,
       "max_width": null,
       "min_height": null,
       "min_width": null,
       "object_fit": null,
       "object_position": null,
       "order": null,
       "overflow": null,
       "overflow_x": null,
       "overflow_y": null,
       "padding": null,
       "right": null,
       "top": null,
       "visibility": null,
       "width": null
      }
     },
     "ce8f8ba364d24503b47a226382be4ae0": {
      "model_module": "@jupyter-widgets/base",
      "model_module_version": "1.2.0",
      "model_name": "LayoutModel",
      "state": {
       "_model_module": "@jupyter-widgets/base",
       "_model_module_version": "1.2.0",
       "_model_name": "LayoutModel",
       "_view_count": null,
       "_view_module": "@jupyter-widgets/base",
       "_view_module_version": "1.2.0",
       "_view_name": "LayoutView",
       "align_content": null,
       "align_items": null,
       "align_self": null,
       "border": null,
       "bottom": null,
       "display": null,
       "flex": null,
       "flex_flow": null,
       "grid_area": null,
       "grid_auto_columns": null,
       "grid_auto_flow": null,
       "grid_auto_rows": null,
       "grid_column": null,
       "grid_gap": null,
       "grid_row": null,
       "grid_template_areas": null,
       "grid_template_columns": null,
       "grid_template_rows": null,
       "height": null,
       "justify_content": null,
       "justify_items": null,
       "left": null,
       "margin": null,
       "max_height": null,
       "max_width": null,
       "min_height": null,
       "min_width": null,
       "object_fit": null,
       "object_position": null,
       "order": null,
       "overflow": null,
       "overflow_x": null,
       "overflow_y": null,
       "padding": null,
       "right": null,
       "top": null,
       "visibility": null,
       "width": null
      }
     },
     "d2d946d0539941d68921fc75976d3bb8": {
      "model_module": "@jupyter-widgets/controls",
      "model_module_version": "1.5.0",
      "model_name": "ProgressStyleModel",
      "state": {
       "_model_module": "@jupyter-widgets/controls",
       "_model_module_version": "1.5.0",
       "_model_name": "ProgressStyleModel",
       "_view_count": null,
       "_view_module": "@jupyter-widgets/base",
       "_view_module_version": "1.2.0",
       "_view_name": "StyleView",
       "bar_color": null,
       "description_width": ""
      }
     },
     "d31af8b4267d4b9eafd6fec818b9a46d": {
      "model_module": "@jupyter-widgets/controls",
      "model_module_version": "1.5.0",
      "model_name": "HTMLModel",
      "state": {
       "_dom_classes": [],
       "_model_module": "@jupyter-widgets/controls",
       "_model_module_version": "1.5.0",
       "_model_name": "HTMLModel",
       "_view_count": null,
       "_view_module": "@jupyter-widgets/controls",
       "_view_module_version": "1.5.0",
       "_view_name": "HTMLView",
       "description": "",
       "description_tooltip": null,
       "layout": "IPY_MODEL_079a8e0ea49e4c3b85c976ad62036ba4",
       "placeholder": "​",
       "style": "IPY_MODEL_445bdbfae5cf4eef9759cbc04160d06b",
       "value": " 50/50 [02:48&lt;00:00,  3.26s/it]"
      }
     },
     "da34d85084174110adcb88d4e25b0a3a": {
      "model_module": "@jupyter-widgets/controls",
      "model_module_version": "1.5.0",
      "model_name": "DescriptionStyleModel",
      "state": {
       "_model_module": "@jupyter-widgets/controls",
       "_model_module_version": "1.5.0",
       "_model_name": "DescriptionStyleModel",
       "_view_count": null,
       "_view_module": "@jupyter-widgets/base",
       "_view_module_version": "1.2.0",
       "_view_name": "StyleView",
       "description_width": ""
      }
     },
     "e2c454242bb344298e94403a98c7676b": {
      "model_module": "@jupyter-widgets/base",
      "model_module_version": "1.2.0",
      "model_name": "LayoutModel",
      "state": {
       "_model_module": "@jupyter-widgets/base",
       "_model_module_version": "1.2.0",
       "_model_name": "LayoutModel",
       "_view_count": null,
       "_view_module": "@jupyter-widgets/base",
       "_view_module_version": "1.2.0",
       "_view_name": "LayoutView",
       "align_content": null,
       "align_items": null,
       "align_self": null,
       "border": null,
       "bottom": null,
       "display": null,
       "flex": null,
       "flex_flow": null,
       "grid_area": null,
       "grid_auto_columns": null,
       "grid_auto_flow": null,
       "grid_auto_rows": null,
       "grid_column": null,
       "grid_gap": null,
       "grid_row": null,
       "grid_template_areas": null,
       "grid_template_columns": null,
       "grid_template_rows": null,
       "height": null,
       "justify_content": null,
       "justify_items": null,
       "left": null,
       "margin": null,
       "max_height": null,
       "max_width": null,
       "min_height": null,
       "min_width": null,
       "object_fit": null,
       "object_position": null,
       "order": null,
       "overflow": null,
       "overflow_x": null,
       "overflow_y": null,
       "padding": null,
       "right": null,
       "top": null,
       "visibility": null,
       "width": null
      }
     },
     "e6848d1201f8411cb1e9fdd6571c282f": {
      "model_module": "@jupyter-widgets/base",
      "model_module_version": "1.2.0",
      "model_name": "LayoutModel",
      "state": {
       "_model_module": "@jupyter-widgets/base",
       "_model_module_version": "1.2.0",
       "_model_name": "LayoutModel",
       "_view_count": null,
       "_view_module": "@jupyter-widgets/base",
       "_view_module_version": "1.2.0",
       "_view_name": "LayoutView",
       "align_content": null,
       "align_items": null,
       "align_self": null,
       "border": null,
       "bottom": null,
       "display": null,
       "flex": null,
       "flex_flow": null,
       "grid_area": null,
       "grid_auto_columns": null,
       "grid_auto_flow": null,
       "grid_auto_rows": null,
       "grid_column": null,
       "grid_gap": null,
       "grid_row": null,
       "grid_template_areas": null,
       "grid_template_columns": null,
       "grid_template_rows": null,
       "height": null,
       "justify_content": null,
       "justify_items": null,
       "left": null,
       "margin": null,
       "max_height": null,
       "max_width": null,
       "min_height": null,
       "min_width": null,
       "object_fit": null,
       "object_position": null,
       "order": null,
       "overflow": null,
       "overflow_x": null,
       "overflow_y": null,
       "padding": null,
       "right": null,
       "top": null,
       "visibility": null,
       "width": null
      }
     }
    },
    "version_major": 2,
    "version_minor": 0
   }
  }
 },
 "nbformat": 4,
 "nbformat_minor": 5
}
